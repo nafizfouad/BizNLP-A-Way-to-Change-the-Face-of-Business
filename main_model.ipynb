{
  "nbformat": 4,
  "nbformat_minor": 0,
  "metadata": {
    "colab": {
      "provenance": [],
      "authorship_tag": "ABX9TyP/VUTHubfQnxw3qErkrN9i",
      "include_colab_link": true
    },
    "kernelspec": {
      "name": "python3",
      "display_name": "Python 3"
    },
    "language_info": {
      "name": "python"
    }
  },
  "cells": [
    {
      "cell_type": "markdown",
      "metadata": {
        "id": "view-in-github",
        "colab_type": "text"
      },
      "source": [
        "<a href=\"https://colab.research.google.com/github/nafizfouad/BizNLP-A-Way-to-Change-the-Face-of-Business/blob/main/main_model.ipynb\" target=\"_parent\"><img src=\"https://colab.research.google.com/assets/colab-badge.svg\" alt=\"Open In Colab\"/></a>"
      ]
    },
    {
      "cell_type": "code",
      "execution_count": null,
      "metadata": {
        "colab": {
          "base_uri": "https://localhost:8080/"
        },
        "id": "2X7Vx_UJFWpI",
        "outputId": "9000843a-5c0f-4f2f-c49d-c7d15ecadc39"
      },
      "outputs": [
        {
          "output_type": "stream",
          "name": "stdout",
          "text": [
            "Mounted at /content/drive\n"
          ]
        }
      ],
      "source": [
        "# Import statements\n",
        "import pandas as pd\n",
        "import numpy as np\n",
        "import matplotlib.pyplot as plt\n",
        "import seaborn as sns\n",
        "import re\n",
        "import nltk\n",
        "from sklearn.model_selection import train_test_split\n",
        "from sklearn.feature_extraction.text import TfidfVectorizer\n",
        "from sklearn.pipeline import Pipeline\n",
        "from sklearn.metrics import accuracy_score, confusion_matrix, classification_report,ConfusionMatrixDisplay\n",
        "from sklearn import naive_bayes\n",
        "from sklearn.linear_model import LogisticRegression\n",
        "from sklearn.svm import LinearSVC\n",
        "from sklearn.neighbors import KNeighborsClassifier\n",
        "from bs4 import BeautifulSoup\n",
        "from nltk.corpus import stopwords\n",
        "from sklearn.ensemble import RandomForestClassifier\n",
        "from sklearn.model_selection import StratifiedKFold\n",
        "from sklearn.model_selection import cross_val_score, KFold\n",
        "from sklearn.metrics import make_scorer, accuracy_score, precision_score, recall_score, f1_score\n",
        "\n",
        "\n",
        "from google.colab import files\n",
        "\n",
        "from google.colab import drive\n",
        "drive.mount('/content/drive')\n",
        "\n",
        "data = pd.read_csv('/content/drive/MyDrive/dataset/amazon_electronics.csv')"
      ]
    },
    {
      "cell_type": "code",
      "source": [
        "# Code for Sentimental Analysis\n",
        "\n",
        "# Start\n",
        "\n",
        "# adding a sentiment column to classify reviews as Positive or Negative\n",
        "# Positive = 1\n",
        "# Negative = 0\n",
        "\n",
        "data['sentiment'] = np.where(data['star_rating'] == 5.0, 1,\n",
        "                           np.where(data['star_rating'] == 4.0, 1, 0))\n",
        "\n",
        "# get unique values of product title column\n",
        "data[\"product_title\"].unique()\n"
      ],
      "metadata": {
        "colab": {
          "base_uri": "https://localhost:8080/"
        },
        "id": "wbYRdjyjIKNH",
        "outputId": "7ddcccf1-7cd2-4cbd-ac5e-c5c32157b190"
      },
      "execution_count": null,
      "outputs": [
        {
          "output_type": "execute_result",
          "data": {
            "text/plain": [
              "array(['yoomall 5M Antenna WIFI RP-SMA Female to Male Extensionl Cable',\n",
              "       'Hosa GPM-103 3.5mm TRS to 1/4\" TRS Adaptor',\n",
              "       'Channel Master Titan 2 Antenna Preamplifier', ...,\n",
              "       'Removable Car Stereo Faceplate Case (Discontinued by Manufacturer)',\n",
              "       'Interact 62057 CD Jewel Box Replacement Cases (10-Pack)',\n",
              "       'JVC RX-668 Audio/Video Receiver'], dtype=object)"
            ]
          },
          "metadata": {},
          "execution_count": 4
        }
      ]
    },
    {
      "cell_type": "code",
      "source": [
        "# Grouping by 'product_title' and counting occurrences\n",
        "title_counts = data['product_title'].value_counts()\n",
        "\n",
        "# Getting the maximum count and corresponding product title\n",
        "max_count = title_counts.max()\n",
        "most_common_title = title_counts.idxmax()\n",
        "\n",
        "print(\"Most common product title:\", most_common_title)\n",
        "print(\"Number of occurrences:\", max_count)"
      ],
      "metadata": {
        "colab": {
          "base_uri": "https://localhost:8080/"
        },
        "id": "0X45XbatLcjw",
        "outputId": "857d0cf4-19b6-412b-9051-b5064387fd80"
      },
      "execution_count": null,
      "outputs": [
        {
          "output_type": "stream",
          "name": "stdout",
          "text": [
            "Most common product title: Panasonic ErgoFit In-Ear Earbud Headphone\n",
            "Number of occurrences: 24809\n"
          ]
        }
      ]
    },
    {
      "cell_type": "code",
      "source": [
        "prod_hosa = data.loc[data[\"product_title\"]=='Panasonic ErgoFit In-Ear Earbud Headphone']\n",
        "prod_hosa"
      ],
      "metadata": {
        "colab": {
          "base_uri": "https://localhost:8080/",
          "height": 982
        },
        "id": "zCiG8IDuKFEP",
        "outputId": "d7c5165b-e5dd-4cbe-c773-75cfc6a37113"
      },
      "execution_count": null,
      "outputs": [
        {
          "output_type": "execute_result",
          "data": {
            "text/plain": [
              "        marketplace  customer_id       review_id  product_id  product_parent  \\\n",
              "45               US     10051428  R315Z1T26EA8YK  B003EM6AQE       921315865   \n",
              "326              US      6646484  R11TJI8ZDD8X1R  B003EM8008       921315865   \n",
              "361              US     24595086  R1SECPCXGCQ9I0  B003EM6AOG       921315865   \n",
              "397              US      2273028  R1RYYQ1AFKHP73  B00E4LGVUO       921315865   \n",
              "557              US       107946   R5RKDQ37LWIQW  B003EM8008       921315865   \n",
              "...             ...          ...             ...         ...             ...   \n",
              "2668271          US     24363208  R29HK7107DK4WK  B003EM8008       921315865   \n",
              "2678582          US     24024401  R3TLP02CLCYYQ6  B003ELYQGG       921315865   \n",
              "2686951          US     38881339  R2034F30FMAX27  B003EM800S       921315865   \n",
              "2689293          US     35640941  R1B9HZKTQRCK54  B003EM8008       921315865   \n",
              "2697538          US     40447572  R1CIX2H1KO4YTV  B003ELYQGG       921315865   \n",
              "\n",
              "                                     product_title product_category  \\\n",
              "45       Panasonic ErgoFit In-Ear Earbud Headphone      Electronics   \n",
              "326      Panasonic ErgoFit In-Ear Earbud Headphone      Electronics   \n",
              "361      Panasonic ErgoFit In-Ear Earbud Headphone      Electronics   \n",
              "397      Panasonic ErgoFit In-Ear Earbud Headphone      Electronics   \n",
              "557      Panasonic ErgoFit In-Ear Earbud Headphone      Electronics   \n",
              "...                                            ...              ...   \n",
              "2668271  Panasonic ErgoFit In-Ear Earbud Headphone      Electronics   \n",
              "2678582  Panasonic ErgoFit In-Ear Earbud Headphone      Electronics   \n",
              "2686951  Panasonic ErgoFit In-Ear Earbud Headphone      Electronics   \n",
              "2689293  Panasonic ErgoFit In-Ear Earbud Headphone      Electronics   \n",
              "2697538  Panasonic ErgoFit In-Ear Earbud Headphone      Electronics   \n",
              "\n",
              "         star_rating  helpful_votes  total_votes vine verified_purchase  \\\n",
              "45                 5              0            0    N                 Y   \n",
              "326                5              0            0    N                 Y   \n",
              "361                5              0            0    N                 Y   \n",
              "397                5              0            0    N                 Y   \n",
              "557                5              0            0    N                 N   \n",
              "...              ...            ...          ...  ...               ...   \n",
              "2668271            4             29           37    N                 Y   \n",
              "2678582            5             15           20    N                 Y   \n",
              "2686951            3              0            0    N                 N   \n",
              "2689293            2              6           12    N                 N   \n",
              "2697538            5              2            3    N                 Y   \n",
              "\n",
              "                                           review_headline  \\\n",
              "45                                Great In-Ear Headphones!   \n",
              "326                              Good quality head phones!   \n",
              "361                                        Not bad at all!   \n",
              "397                                             Five Stars   \n",
              "557                                          I love these!   \n",
              "...                                                    ...   \n",
              "2668271                                       Very Happy:)   \n",
              "2678582          One of the best values found for earbuds!   \n",
              "2686951                                          Only Fair   \n",
              "2689293  Not to be Confused with RP-HJE160-K ErgoFit In...   \n",
              "2697538                                    Durable earbuds   \n",
              "\n",
              "                                               review_body review_date  \\\n",
              "45       I LOVE THESE HEADPHONES! I am totally satisfie...  2015-08-31   \n",
              "326      Probably the best earphones ever. Better than ...  2015-08-31   \n",
              "361      Great headphones, I mean they aren't going to ...  2015-08-31   \n",
              "397               I love them for their price and quality.  2015-08-31   \n",
              "557      I love these earphones! They're very good for ...  2015-08-31   \n",
              "...                                                    ...         ...   \n",
              "2668271  I read the other review and was concerned, but...  2010-12-03   \n",
              "2678582  These are comfortable, have good sound quality...  2010-11-05   \n",
              "2686951  Well, the price is right for these, they are i...  2010-10-12   \n",
              "2689293  So I bought these thinking they would be the s...  2010-10-05   \n",
              "2697538  Love these new earbuds. They are only $10, and...  2010-09-13   \n",
              "\n",
              "         sentiment  \n",
              "45               1  \n",
              "326              1  \n",
              "361              1  \n",
              "397              1  \n",
              "557              1  \n",
              "...            ...  \n",
              "2668271          1  \n",
              "2678582          1  \n",
              "2686951          0  \n",
              "2689293          0  \n",
              "2697538          1  \n",
              "\n",
              "[24809 rows x 16 columns]"
            ],
            "text/html": [
              "\n",
              "  <div id=\"df-441b6654-bab7-4892-bd1d-33c36d3003ab\" class=\"colab-df-container\">\n",
              "    <div>\n",
              "<style scoped>\n",
              "    .dataframe tbody tr th:only-of-type {\n",
              "        vertical-align: middle;\n",
              "    }\n",
              "\n",
              "    .dataframe tbody tr th {\n",
              "        vertical-align: top;\n",
              "    }\n",
              "\n",
              "    .dataframe thead th {\n",
              "        text-align: right;\n",
              "    }\n",
              "</style>\n",
              "<table border=\"1\" class=\"dataframe\">\n",
              "  <thead>\n",
              "    <tr style=\"text-align: right;\">\n",
              "      <th></th>\n",
              "      <th>marketplace</th>\n",
              "      <th>customer_id</th>\n",
              "      <th>review_id</th>\n",
              "      <th>product_id</th>\n",
              "      <th>product_parent</th>\n",
              "      <th>product_title</th>\n",
              "      <th>product_category</th>\n",
              "      <th>star_rating</th>\n",
              "      <th>helpful_votes</th>\n",
              "      <th>total_votes</th>\n",
              "      <th>vine</th>\n",
              "      <th>verified_purchase</th>\n",
              "      <th>review_headline</th>\n",
              "      <th>review_body</th>\n",
              "      <th>review_date</th>\n",
              "      <th>sentiment</th>\n",
              "    </tr>\n",
              "  </thead>\n",
              "  <tbody>\n",
              "    <tr>\n",
              "      <th>45</th>\n",
              "      <td>US</td>\n",
              "      <td>10051428</td>\n",
              "      <td>R315Z1T26EA8YK</td>\n",
              "      <td>B003EM6AQE</td>\n",
              "      <td>921315865</td>\n",
              "      <td>Panasonic ErgoFit In-Ear Earbud Headphone</td>\n",
              "      <td>Electronics</td>\n",
              "      <td>5</td>\n",
              "      <td>0</td>\n",
              "      <td>0</td>\n",
              "      <td>N</td>\n",
              "      <td>Y</td>\n",
              "      <td>Great In-Ear Headphones!</td>\n",
              "      <td>I LOVE THESE HEADPHONES! I am totally satisfie...</td>\n",
              "      <td>2015-08-31</td>\n",
              "      <td>1</td>\n",
              "    </tr>\n",
              "    <tr>\n",
              "      <th>326</th>\n",
              "      <td>US</td>\n",
              "      <td>6646484</td>\n",
              "      <td>R11TJI8ZDD8X1R</td>\n",
              "      <td>B003EM8008</td>\n",
              "      <td>921315865</td>\n",
              "      <td>Panasonic ErgoFit In-Ear Earbud Headphone</td>\n",
              "      <td>Electronics</td>\n",
              "      <td>5</td>\n",
              "      <td>0</td>\n",
              "      <td>0</td>\n",
              "      <td>N</td>\n",
              "      <td>Y</td>\n",
              "      <td>Good quality head phones!</td>\n",
              "      <td>Probably the best earphones ever. Better than ...</td>\n",
              "      <td>2015-08-31</td>\n",
              "      <td>1</td>\n",
              "    </tr>\n",
              "    <tr>\n",
              "      <th>361</th>\n",
              "      <td>US</td>\n",
              "      <td>24595086</td>\n",
              "      <td>R1SECPCXGCQ9I0</td>\n",
              "      <td>B003EM6AOG</td>\n",
              "      <td>921315865</td>\n",
              "      <td>Panasonic ErgoFit In-Ear Earbud Headphone</td>\n",
              "      <td>Electronics</td>\n",
              "      <td>5</td>\n",
              "      <td>0</td>\n",
              "      <td>0</td>\n",
              "      <td>N</td>\n",
              "      <td>Y</td>\n",
              "      <td>Not bad at all!</td>\n",
              "      <td>Great headphones, I mean they aren't going to ...</td>\n",
              "      <td>2015-08-31</td>\n",
              "      <td>1</td>\n",
              "    </tr>\n",
              "    <tr>\n",
              "      <th>397</th>\n",
              "      <td>US</td>\n",
              "      <td>2273028</td>\n",
              "      <td>R1RYYQ1AFKHP73</td>\n",
              "      <td>B00E4LGVUO</td>\n",
              "      <td>921315865</td>\n",
              "      <td>Panasonic ErgoFit In-Ear Earbud Headphone</td>\n",
              "      <td>Electronics</td>\n",
              "      <td>5</td>\n",
              "      <td>0</td>\n",
              "      <td>0</td>\n",
              "      <td>N</td>\n",
              "      <td>Y</td>\n",
              "      <td>Five Stars</td>\n",
              "      <td>I love them for their price and quality.</td>\n",
              "      <td>2015-08-31</td>\n",
              "      <td>1</td>\n",
              "    </tr>\n",
              "    <tr>\n",
              "      <th>557</th>\n",
              "      <td>US</td>\n",
              "      <td>107946</td>\n",
              "      <td>R5RKDQ37LWIQW</td>\n",
              "      <td>B003EM8008</td>\n",
              "      <td>921315865</td>\n",
              "      <td>Panasonic ErgoFit In-Ear Earbud Headphone</td>\n",
              "      <td>Electronics</td>\n",
              "      <td>5</td>\n",
              "      <td>0</td>\n",
              "      <td>0</td>\n",
              "      <td>N</td>\n",
              "      <td>N</td>\n",
              "      <td>I love these!</td>\n",
              "      <td>I love these earphones! They're very good for ...</td>\n",
              "      <td>2015-08-31</td>\n",
              "      <td>1</td>\n",
              "    </tr>\n",
              "    <tr>\n",
              "      <th>...</th>\n",
              "      <td>...</td>\n",
              "      <td>...</td>\n",
              "      <td>...</td>\n",
              "      <td>...</td>\n",
              "      <td>...</td>\n",
              "      <td>...</td>\n",
              "      <td>...</td>\n",
              "      <td>...</td>\n",
              "      <td>...</td>\n",
              "      <td>...</td>\n",
              "      <td>...</td>\n",
              "      <td>...</td>\n",
              "      <td>...</td>\n",
              "      <td>...</td>\n",
              "      <td>...</td>\n",
              "      <td>...</td>\n",
              "    </tr>\n",
              "    <tr>\n",
              "      <th>2668271</th>\n",
              "      <td>US</td>\n",
              "      <td>24363208</td>\n",
              "      <td>R29HK7107DK4WK</td>\n",
              "      <td>B003EM8008</td>\n",
              "      <td>921315865</td>\n",
              "      <td>Panasonic ErgoFit In-Ear Earbud Headphone</td>\n",
              "      <td>Electronics</td>\n",
              "      <td>4</td>\n",
              "      <td>29</td>\n",
              "      <td>37</td>\n",
              "      <td>N</td>\n",
              "      <td>Y</td>\n",
              "      <td>Very Happy:)</td>\n",
              "      <td>I read the other review and was concerned, but...</td>\n",
              "      <td>2010-12-03</td>\n",
              "      <td>1</td>\n",
              "    </tr>\n",
              "    <tr>\n",
              "      <th>2678582</th>\n",
              "      <td>US</td>\n",
              "      <td>24024401</td>\n",
              "      <td>R3TLP02CLCYYQ6</td>\n",
              "      <td>B003ELYQGG</td>\n",
              "      <td>921315865</td>\n",
              "      <td>Panasonic ErgoFit In-Ear Earbud Headphone</td>\n",
              "      <td>Electronics</td>\n",
              "      <td>5</td>\n",
              "      <td>15</td>\n",
              "      <td>20</td>\n",
              "      <td>N</td>\n",
              "      <td>Y</td>\n",
              "      <td>One of the best values found for earbuds!</td>\n",
              "      <td>These are comfortable, have good sound quality...</td>\n",
              "      <td>2010-11-05</td>\n",
              "      <td>1</td>\n",
              "    </tr>\n",
              "    <tr>\n",
              "      <th>2686951</th>\n",
              "      <td>US</td>\n",
              "      <td>38881339</td>\n",
              "      <td>R2034F30FMAX27</td>\n",
              "      <td>B003EM800S</td>\n",
              "      <td>921315865</td>\n",
              "      <td>Panasonic ErgoFit In-Ear Earbud Headphone</td>\n",
              "      <td>Electronics</td>\n",
              "      <td>3</td>\n",
              "      <td>0</td>\n",
              "      <td>0</td>\n",
              "      <td>N</td>\n",
              "      <td>N</td>\n",
              "      <td>Only Fair</td>\n",
              "      <td>Well, the price is right for these, they are i...</td>\n",
              "      <td>2010-10-12</td>\n",
              "      <td>0</td>\n",
              "    </tr>\n",
              "    <tr>\n",
              "      <th>2689293</th>\n",
              "      <td>US</td>\n",
              "      <td>35640941</td>\n",
              "      <td>R1B9HZKTQRCK54</td>\n",
              "      <td>B003EM8008</td>\n",
              "      <td>921315865</td>\n",
              "      <td>Panasonic ErgoFit In-Ear Earbud Headphone</td>\n",
              "      <td>Electronics</td>\n",
              "      <td>2</td>\n",
              "      <td>6</td>\n",
              "      <td>12</td>\n",
              "      <td>N</td>\n",
              "      <td>N</td>\n",
              "      <td>Not to be Confused with RP-HJE160-K ErgoFit In...</td>\n",
              "      <td>So I bought these thinking they would be the s...</td>\n",
              "      <td>2010-10-05</td>\n",
              "      <td>0</td>\n",
              "    </tr>\n",
              "    <tr>\n",
              "      <th>2697538</th>\n",
              "      <td>US</td>\n",
              "      <td>40447572</td>\n",
              "      <td>R1CIX2H1KO4YTV</td>\n",
              "      <td>B003ELYQGG</td>\n",
              "      <td>921315865</td>\n",
              "      <td>Panasonic ErgoFit In-Ear Earbud Headphone</td>\n",
              "      <td>Electronics</td>\n",
              "      <td>5</td>\n",
              "      <td>2</td>\n",
              "      <td>3</td>\n",
              "      <td>N</td>\n",
              "      <td>Y</td>\n",
              "      <td>Durable earbuds</td>\n",
              "      <td>Love these new earbuds. They are only $10, and...</td>\n",
              "      <td>2010-09-13</td>\n",
              "      <td>1</td>\n",
              "    </tr>\n",
              "  </tbody>\n",
              "</table>\n",
              "<p>24809 rows × 16 columns</p>\n",
              "</div>\n",
              "    <div class=\"colab-df-buttons\">\n",
              "\n",
              "  <div class=\"colab-df-container\">\n",
              "    <button class=\"colab-df-convert\" onclick=\"convertToInteractive('df-441b6654-bab7-4892-bd1d-33c36d3003ab')\"\n",
              "            title=\"Convert this dataframe to an interactive table.\"\n",
              "            style=\"display:none;\">\n",
              "\n",
              "  <svg xmlns=\"http://www.w3.org/2000/svg\" height=\"24px\" viewBox=\"0 -960 960 960\">\n",
              "    <path d=\"M120-120v-720h720v720H120Zm60-500h600v-160H180v160Zm220 220h160v-160H400v160Zm0 220h160v-160H400v160ZM180-400h160v-160H180v160Zm440 0h160v-160H620v160ZM180-180h160v-160H180v160Zm440 0h160v-160H620v160Z\"/>\n",
              "  </svg>\n",
              "    </button>\n",
              "\n",
              "  <style>\n",
              "    .colab-df-container {\n",
              "      display:flex;\n",
              "      gap: 12px;\n",
              "    }\n",
              "\n",
              "    .colab-df-convert {\n",
              "      background-color: #E8F0FE;\n",
              "      border: none;\n",
              "      border-radius: 50%;\n",
              "      cursor: pointer;\n",
              "      display: none;\n",
              "      fill: #1967D2;\n",
              "      height: 32px;\n",
              "      padding: 0 0 0 0;\n",
              "      width: 32px;\n",
              "    }\n",
              "\n",
              "    .colab-df-convert:hover {\n",
              "      background-color: #E2EBFA;\n",
              "      box-shadow: 0px 1px 2px rgba(60, 64, 67, 0.3), 0px 1px 3px 1px rgba(60, 64, 67, 0.15);\n",
              "      fill: #174EA6;\n",
              "    }\n",
              "\n",
              "    .colab-df-buttons div {\n",
              "      margin-bottom: 4px;\n",
              "    }\n",
              "\n",
              "    [theme=dark] .colab-df-convert {\n",
              "      background-color: #3B4455;\n",
              "      fill: #D2E3FC;\n",
              "    }\n",
              "\n",
              "    [theme=dark] .colab-df-convert:hover {\n",
              "      background-color: #434B5C;\n",
              "      box-shadow: 0px 1px 3px 1px rgba(0, 0, 0, 0.15);\n",
              "      filter: drop-shadow(0px 1px 2px rgba(0, 0, 0, 0.3));\n",
              "      fill: #FFFFFF;\n",
              "    }\n",
              "  </style>\n",
              "\n",
              "    <script>\n",
              "      const buttonEl =\n",
              "        document.querySelector('#df-441b6654-bab7-4892-bd1d-33c36d3003ab button.colab-df-convert');\n",
              "      buttonEl.style.display =\n",
              "        google.colab.kernel.accessAllowed ? 'block' : 'none';\n",
              "\n",
              "      async function convertToInteractive(key) {\n",
              "        const element = document.querySelector('#df-441b6654-bab7-4892-bd1d-33c36d3003ab');\n",
              "        const dataTable =\n",
              "          await google.colab.kernel.invokeFunction('convertToInteractive',\n",
              "                                                    [key], {});\n",
              "        if (!dataTable) return;\n",
              "\n",
              "        const docLinkHtml = 'Like what you see? Visit the ' +\n",
              "          '<a target=\"_blank\" href=https://colab.research.google.com/notebooks/data_table.ipynb>data table notebook</a>'\n",
              "          + ' to learn more about interactive tables.';\n",
              "        element.innerHTML = '';\n",
              "        dataTable['output_type'] = 'display_data';\n",
              "        await google.colab.output.renderOutput(dataTable, element);\n",
              "        const docLink = document.createElement('div');\n",
              "        docLink.innerHTML = docLinkHtml;\n",
              "        element.appendChild(docLink);\n",
              "      }\n",
              "    </script>\n",
              "  </div>\n",
              "\n",
              "\n",
              "<div id=\"df-17d05434-e712-40a3-96ee-bc88a14c20fa\">\n",
              "  <button class=\"colab-df-quickchart\" onclick=\"quickchart('df-17d05434-e712-40a3-96ee-bc88a14c20fa')\"\n",
              "            title=\"Suggest charts\"\n",
              "            style=\"display:none;\">\n",
              "\n",
              "<svg xmlns=\"http://www.w3.org/2000/svg\" height=\"24px\"viewBox=\"0 0 24 24\"\n",
              "     width=\"24px\">\n",
              "    <g>\n",
              "        <path d=\"M19 3H5c-1.1 0-2 .9-2 2v14c0 1.1.9 2 2 2h14c1.1 0 2-.9 2-2V5c0-1.1-.9-2-2-2zM9 17H7v-7h2v7zm4 0h-2V7h2v10zm4 0h-2v-4h2v4z\"/>\n",
              "    </g>\n",
              "</svg>\n",
              "  </button>\n",
              "\n",
              "<style>\n",
              "  .colab-df-quickchart {\n",
              "      --bg-color: #E8F0FE;\n",
              "      --fill-color: #1967D2;\n",
              "      --hover-bg-color: #E2EBFA;\n",
              "      --hover-fill-color: #174EA6;\n",
              "      --disabled-fill-color: #AAA;\n",
              "      --disabled-bg-color: #DDD;\n",
              "  }\n",
              "\n",
              "  [theme=dark] .colab-df-quickchart {\n",
              "      --bg-color: #3B4455;\n",
              "      --fill-color: #D2E3FC;\n",
              "      --hover-bg-color: #434B5C;\n",
              "      --hover-fill-color: #FFFFFF;\n",
              "      --disabled-bg-color: #3B4455;\n",
              "      --disabled-fill-color: #666;\n",
              "  }\n",
              "\n",
              "  .colab-df-quickchart {\n",
              "    background-color: var(--bg-color);\n",
              "    border: none;\n",
              "    border-radius: 50%;\n",
              "    cursor: pointer;\n",
              "    display: none;\n",
              "    fill: var(--fill-color);\n",
              "    height: 32px;\n",
              "    padding: 0;\n",
              "    width: 32px;\n",
              "  }\n",
              "\n",
              "  .colab-df-quickchart:hover {\n",
              "    background-color: var(--hover-bg-color);\n",
              "    box-shadow: 0 1px 2px rgba(60, 64, 67, 0.3), 0 1px 3px 1px rgba(60, 64, 67, 0.15);\n",
              "    fill: var(--button-hover-fill-color);\n",
              "  }\n",
              "\n",
              "  .colab-df-quickchart-complete:disabled,\n",
              "  .colab-df-quickchart-complete:disabled:hover {\n",
              "    background-color: var(--disabled-bg-color);\n",
              "    fill: var(--disabled-fill-color);\n",
              "    box-shadow: none;\n",
              "  }\n",
              "\n",
              "  .colab-df-spinner {\n",
              "    border: 2px solid var(--fill-color);\n",
              "    border-color: transparent;\n",
              "    border-bottom-color: var(--fill-color);\n",
              "    animation:\n",
              "      spin 1s steps(1) infinite;\n",
              "  }\n",
              "\n",
              "  @keyframes spin {\n",
              "    0% {\n",
              "      border-color: transparent;\n",
              "      border-bottom-color: var(--fill-color);\n",
              "      border-left-color: var(--fill-color);\n",
              "    }\n",
              "    20% {\n",
              "      border-color: transparent;\n",
              "      border-left-color: var(--fill-color);\n",
              "      border-top-color: var(--fill-color);\n",
              "    }\n",
              "    30% {\n",
              "      border-color: transparent;\n",
              "      border-left-color: var(--fill-color);\n",
              "      border-top-color: var(--fill-color);\n",
              "      border-right-color: var(--fill-color);\n",
              "    }\n",
              "    40% {\n",
              "      border-color: transparent;\n",
              "      border-right-color: var(--fill-color);\n",
              "      border-top-color: var(--fill-color);\n",
              "    }\n",
              "    60% {\n",
              "      border-color: transparent;\n",
              "      border-right-color: var(--fill-color);\n",
              "    }\n",
              "    80% {\n",
              "      border-color: transparent;\n",
              "      border-right-color: var(--fill-color);\n",
              "      border-bottom-color: var(--fill-color);\n",
              "    }\n",
              "    90% {\n",
              "      border-color: transparent;\n",
              "      border-bottom-color: var(--fill-color);\n",
              "    }\n",
              "  }\n",
              "</style>\n",
              "\n",
              "  <script>\n",
              "    async function quickchart(key) {\n",
              "      const quickchartButtonEl =\n",
              "        document.querySelector('#' + key + ' button');\n",
              "      quickchartButtonEl.disabled = true;  // To prevent multiple clicks.\n",
              "      quickchartButtonEl.classList.add('colab-df-spinner');\n",
              "      try {\n",
              "        const charts = await google.colab.kernel.invokeFunction(\n",
              "            'suggestCharts', [key], {});\n",
              "      } catch (error) {\n",
              "        console.error('Error during call to suggestCharts:', error);\n",
              "      }\n",
              "      quickchartButtonEl.classList.remove('colab-df-spinner');\n",
              "      quickchartButtonEl.classList.add('colab-df-quickchart-complete');\n",
              "    }\n",
              "    (() => {\n",
              "      let quickchartButtonEl =\n",
              "        document.querySelector('#df-17d05434-e712-40a3-96ee-bc88a14c20fa button');\n",
              "      quickchartButtonEl.style.display =\n",
              "        google.colab.kernel.accessAllowed ? 'block' : 'none';\n",
              "    })();\n",
              "  </script>\n",
              "</div>\n",
              "\n",
              "  <div id=\"id_1cb6a6c8-b806-449c-9785-2ac00884d2e4\">\n",
              "    <style>\n",
              "      .colab-df-generate {\n",
              "        background-color: #E8F0FE;\n",
              "        border: none;\n",
              "        border-radius: 50%;\n",
              "        cursor: pointer;\n",
              "        display: none;\n",
              "        fill: #1967D2;\n",
              "        height: 32px;\n",
              "        padding: 0 0 0 0;\n",
              "        width: 32px;\n",
              "      }\n",
              "\n",
              "      .colab-df-generate:hover {\n",
              "        background-color: #E2EBFA;\n",
              "        box-shadow: 0px 1px 2px rgba(60, 64, 67, 0.3), 0px 1px 3px 1px rgba(60, 64, 67, 0.15);\n",
              "        fill: #174EA6;\n",
              "      }\n",
              "\n",
              "      [theme=dark] .colab-df-generate {\n",
              "        background-color: #3B4455;\n",
              "        fill: #D2E3FC;\n",
              "      }\n",
              "\n",
              "      [theme=dark] .colab-df-generate:hover {\n",
              "        background-color: #434B5C;\n",
              "        box-shadow: 0px 1px 3px 1px rgba(0, 0, 0, 0.15);\n",
              "        filter: drop-shadow(0px 1px 2px rgba(0, 0, 0, 0.3));\n",
              "        fill: #FFFFFF;\n",
              "      }\n",
              "    </style>\n",
              "    <button class=\"colab-df-generate\" onclick=\"generateWithVariable('prod_hosa')\"\n",
              "            title=\"Generate code using this dataframe.\"\n",
              "            style=\"display:none;\">\n",
              "\n",
              "  <svg xmlns=\"http://www.w3.org/2000/svg\" height=\"24px\"viewBox=\"0 0 24 24\"\n",
              "       width=\"24px\">\n",
              "    <path d=\"M7,19H8.4L18.45,9,17,7.55,7,17.6ZM5,21V16.75L18.45,3.32a2,2,0,0,1,2.83,0l1.4,1.43a1.91,1.91,0,0,1,.58,1.4,1.91,1.91,0,0,1-.58,1.4L9.25,21ZM18.45,9,17,7.55Zm-12,3A5.31,5.31,0,0,0,4.9,8.1,5.31,5.31,0,0,0,1,6.5,5.31,5.31,0,0,0,4.9,4.9,5.31,5.31,0,0,0,6.5,1,5.31,5.31,0,0,0,8.1,4.9,5.31,5.31,0,0,0,12,6.5,5.46,5.46,0,0,0,6.5,12Z\"/>\n",
              "  </svg>\n",
              "    </button>\n",
              "    <script>\n",
              "      (() => {\n",
              "      const buttonEl =\n",
              "        document.querySelector('#id_1cb6a6c8-b806-449c-9785-2ac00884d2e4 button.colab-df-generate');\n",
              "      buttonEl.style.display =\n",
              "        google.colab.kernel.accessAllowed ? 'block' : 'none';\n",
              "\n",
              "      buttonEl.onclick = () => {\n",
              "        google.colab.notebook.generateWithVariable('prod_hosa');\n",
              "      }\n",
              "      })();\n",
              "    </script>\n",
              "  </div>\n",
              "\n",
              "    </div>\n",
              "  </div>\n"
            ],
            "application/vnd.google.colaboratory.intrinsic+json": {
              "type": "dataframe",
              "variable_name": "prod_hosa",
              "repr_error": "'str' object has no attribute 'empty'"
            }
          },
          "metadata": {},
          "execution_count": 6
        }
      ]
    },
    {
      "cell_type": "code",
      "source": [
        "# #split data-set to train and test\n",
        "\n",
        "X = prod_hosa['review_body']\n",
        "Y = prod_hosa['sentiment']\n",
        "\n",
        "X_train, X_test, Y_train, Y_test = train_test_split(X, Y, test_size = 0.2, random_state=42)"
      ],
      "metadata": {
        "id": "R0__1x0FLr1v"
      },
      "execution_count": null,
      "outputs": []
    },
    {
      "cell_type": "code",
      "source": [
        "# function to remove html elements from the reviews\n",
        "def removeHTML(raw_text):\n",
        "    clean_HTML = BeautifulSoup(raw_text, 'lxml').get_text()\n",
        "    return clean_HTML"
      ],
      "metadata": {
        "id": "Tgu4ArQ3Ly4g"
      },
      "execution_count": null,
      "outputs": []
    },
    {
      "cell_type": "code",
      "source": [
        "# function to remove special characters and numbers from the reviews4961\n",
        "def removeSpecialChar(raw_text):\n",
        "    clean_SpecialChar = re.sub(\"[^a-zA-Z]\", \" \", raw_text)\n",
        "    return clean_SpecialChar"
      ],
      "metadata": {
        "id": "kYT8z7ctL01e"
      },
      "execution_count": null,
      "outputs": []
    },
    {
      "cell_type": "code",
      "source": [
        "# function to convert all reviews into lower case\n",
        "def toLowerCase(raw_text):\n",
        "    clean_LowerCase = raw_text.lower().split()\n",
        "    return( \" \".join(clean_LowerCase))"
      ],
      "metadata": {
        "id": "z_DPo8jVL3S_"
      },
      "execution_count": null,
      "outputs": []
    },
    {
      "cell_type": "code",
      "source": [
        "# function to remove stop words from the reviews\n",
        "def removeStopWords(raw_text):\n",
        "    stops = set(stopwords.words(\"english\"))\n",
        "    words = [w for w in raw_text if not w in stops]\n",
        "    return( \" \".join(words))"
      ],
      "metadata": {
        "id": "FNSIhEBWL4__"
      },
      "execution_count": null,
      "outputs": []
    },
    {
      "cell_type": "code",
      "source": [
        "# X_training clean set\n",
        "nltk.download('stopwords')\n",
        "X_train_cleaned = []\n",
        "\n",
        "for val in X_train:\n",
        "    val = removeHTML(val)\n",
        "    val = removeSpecialChar(val)\n",
        "    val = toLowerCase(val)\n",
        "    removeStopWords(val)\n",
        "    X_train_cleaned.append(val)"
      ],
      "metadata": {
        "colab": {
          "base_uri": "https://localhost:8080/"
        },
        "id": "0Dk7LzwBL6xe",
        "outputId": "56882ead-f17a-4bc4-cd91-411a950222b0"
      },
      "execution_count": null,
      "outputs": [
        {
          "output_type": "stream",
          "name": "stderr",
          "text": [
            "[nltk_data] Downloading package stopwords to /root/nltk_data...\n",
            "[nltk_data]   Unzipping corpora/stopwords.zip.\n",
            "<ipython-input-8-c2a805237a43>:3: MarkupResemblesLocatorWarning: The input looks more like a filename than markup. You may want to open this file and pass the filehandle into Beautiful Soup.\n",
            "  clean_HTML = BeautifulSoup(raw_text, 'lxml').get_text()\n"
          ]
        }
      ]
    },
    {
      "cell_type": "code",
      "source": [
        "# X_testing clean set\n",
        "X_test_cleaned = []\n",
        "\n",
        "for val in X_test:\n",
        "    val = removeHTML(val)\n",
        "    val = removeSpecialChar(val)\n",
        "    val = toLowerCase(val)\n",
        "    removeStopWords(val)\n",
        "    X_test_cleaned.append(val)"
      ],
      "metadata": {
        "colab": {
          "base_uri": "https://localhost:8080/"
        },
        "id": "25MyksaoL8u4",
        "outputId": "a31a4293-c6e7-4820-dc6f-342447bea940"
      },
      "execution_count": null,
      "outputs": [
        {
          "output_type": "stream",
          "name": "stderr",
          "text": [
            "<ipython-input-8-c2a805237a43>:3: MarkupResemblesLocatorWarning: The input looks more like a filename than markup. You may want to open this file and pass the filehandle into Beautiful Soup.\n",
            "  clean_HTML = BeautifulSoup(raw_text, 'lxml').get_text()\n"
          ]
        }
      ]
    },
    {
      "cell_type": "code",
      "source": [
        "# Convert a collection of raw documents to a matrix of TF-IDF features. This is required so as to train the model using features instead of\n",
        "# raw strings.\n",
        "tvec = TfidfVectorizer(use_idf=True,\n",
        "strip_accents='ascii')\n",
        "\n",
        "X_train_tvec = tvec.fit_transform(X_train_cleaned)"
      ],
      "metadata": {
        "id": "Ie2i5hHQL_NW"
      },
      "execution_count": null,
      "outputs": []
    },
    {
      "cell_type": "code",
      "source": [
        "# Define the Support Vector Classifier model\n",
        "svr_lin = LinearSVC(multi_class='ovr', C=1.0, loss='squared_hinge', dual=False)\n",
        "\n",
        "# Perform 4-fold cross-validation\n",
        "kf_4 = KFold(n_splits=4, shuffle=True, random_state=42)\n",
        "cv_scores_4 = cross_val_score(svr_lin, X_train_tvec, Y_train, cv=kf_4, scoring='accuracy')\n",
        "\n",
        "# Create a DataFrame to store cross-validation results\n",
        "cv_results_4 = pd.DataFrame(index=range(1, 5))\n",
        "cv_results_4['Accuracy'] = cv_scores_4\n",
        "cv_results_4['Precision'] = cross_val_score(svr_lin, X_train_tvec, Y_train, cv=kf_4, scoring='precision_macro')\n",
        "cv_results_4['Recall'] = cross_val_score(svr_lin, X_train_tvec, Y_train, cv=kf_4, scoring='recall_macro')\n",
        "cv_results_4['F1 Score'] = cross_val_score(svr_lin, X_train_tvec, Y_train, cv=kf_4, scoring='f1_macro')\n",
        "\n",
        "# Print 4-fold cross-validation results\n",
        "print(\"4-Fold Cross-Validation Results:\")\n",
        "print(cv_results_4)\n",
        "\n",
        "# Calculate and print mean scores for 4-fold cross-validation\n",
        "print(\"\\nMean Scores for 4-Fold Cross-Validation:\")\n",
        "print(\"Mean Accuracy:\", cv_scores_4.mean())\n",
        "print(\"Mean Precision:\", cv_results_4['Precision'].mean())\n",
        "print(\"Mean Recall:\", cv_results_4['Recall'].mean())\n",
        "print(\"Mean F1 Score:\", cv_results_4['F1 Score'].mean())\n",
        "\n",
        "# Perform 10-fold cross-validation\n",
        "kf_10 = KFold(n_splits=10, shuffle=True, random_state=42)\n",
        "cv_scores_10 = cross_val_score(svr_lin, X_train_tvec, Y_train, cv=kf_10, scoring='accuracy')\n",
        "\n",
        "# Create a DataFrame to store cross-validation results\n",
        "cv_results_10 = pd.DataFrame(index=range(1, 11))\n",
        "cv_results_10['Accuracy'] = cv_scores_10\n",
        "cv_results_10['Precision'] = cross_val_score(svr_lin, X_train_tvec, Y_train, cv=kf_10, scoring='precision_macro')\n",
        "cv_results_10['Recall'] = cross_val_score(svr_lin, X_train_tvec, Y_train, cv=kf_10, scoring='recall_macro')\n",
        "cv_results_10['F1 Score'] = cross_val_score(svr_lin, X_train_tvec, Y_train, cv=kf_10, scoring='f1_macro')\n",
        "\n",
        "# Print 10-fold cross-validation results\n",
        "print(\"\\n10-Fold Cross-Validation Results:\")\n",
        "print(cv_results_10)\n",
        "\n",
        "# Calculate and print mean scores for 10-fold cross-validation\n",
        "print(\"\\nMean Scores for 10-Fold Cross-Validation:\")\n",
        "print(\"Mean Accuracy:\", cv_scores_10.mean())\n",
        "print(\"Mean Precision:\", cv_results_10['Precision'].mean())\n",
        "print(\"Mean Recall:\", cv_results_10['Recall'].mean())\n",
        "print(\"Mean F1 Score:\", cv_results_10['F1 Score'].mean())\n",
        "\n"
      ],
      "metadata": {
        "colab": {
          "base_uri": "https://localhost:8080/"
        },
        "id": "SFbtdQ8QGB8w",
        "outputId": "acff8125-b6a8-4662-83cf-79e969ce9a82"
      },
      "execution_count": null,
      "outputs": [
        {
          "output_type": "stream",
          "name": "stdout",
          "text": [
            "4-Fold Cross-Validation Results:\n",
            "   Accuracy  Precision    Recall  F1 Score\n",
            "1  0.910520   0.841014  0.783295  0.807982\n",
            "2  0.916163   0.858720  0.777990  0.810656\n",
            "3  0.914954   0.855722  0.778129  0.809732\n",
            "4  0.900826   0.831024  0.761650  0.789866\n",
            "\n",
            "Mean Scores for 4-Fold Cross-Validation:\n",
            "Mean Accuracy: 0.910615720800397\n",
            "Mean Precision: 0.8466199794099376\n",
            "Mean Recall: 0.7752660503264353\n",
            "Mean F1 Score: 0.8045591519844051\n",
            "\n",
            "10-Fold Cross-Validation Results:\n",
            "    Accuracy  Precision    Recall  F1 Score\n",
            "1   0.920907   0.867841  0.811610  0.836066\n",
            "2   0.910831   0.835020  0.784195  0.806364\n",
            "3   0.905290   0.838765  0.767585  0.796613\n",
            "4   0.925441   0.882492  0.789369  0.826497\n",
            "5   0.910831   0.840407  0.763102  0.794317\n",
            "6   0.920403   0.848431  0.784038  0.811423\n",
            "7   0.911839   0.873032  0.767084  0.806684\n",
            "8   0.909778   0.838345  0.789331  0.810799\n",
            "9   0.912298   0.847926  0.793296  0.816923\n",
            "10  0.899698   0.838001  0.758351  0.789659\n",
            "\n",
            "Mean Scores for 10-Fold Cross-Validation:\n",
            "Mean Accuracy: 0.9127315755261234\n",
            "Mean Precision: 0.8510258267880249\n",
            "Mean Recall: 0.7807959988042439\n",
            "Mean F1 Score: 0.8095345489639405\n"
          ]
        }
      ]
    },
    {
      "cell_type": "code",
      "source": [
        "# Predict using training and testing data and display the accuracy, f-1 score, precision for Positive and Negative Sentiment Classifiers\n",
        "svr_lin.fit(X_train_tvec, Y_train)\n",
        "svr_lin_predictions = svr_lin.predict(tvec.transform(X_test_cleaned))\n",
        "report = classification_report(Y_test,svr_lin_predictions, output_dict=True)\n",
        "data_report = pd.DataFrame(report).transpose().round(4)\n",
        "cm = sns.light_palette(\"yellow\", as_cmap=True)\n",
        "data_report.style.background_gradient(cmap=cm)"
      ],
      "metadata": {
        "colab": {
          "base_uri": "https://localhost:8080/",
          "height": 206
        },
        "id": "8f2U-BHCMFLx",
        "outputId": "39b14c9a-9be0-4628-b6f5-56caf52e5376"
      },
      "execution_count": null,
      "outputs": [
        {
          "output_type": "execute_result",
          "data": {
            "text/plain": [
              "<pandas.io.formats.style.Styler at 0x7f86902c1270>"
            ],
            "text/html": [
              "<style type=\"text/css\">\n",
              "#T_9104b_row0_col0, #T_9104b_row0_col1, #T_9104b_row0_col2, #T_9104b_row2_col3 {\n",
              "  background-color: #f2f2dd;\n",
              "  color: #000000;\n",
              "}\n",
              "#T_9104b_row0_col3 {\n",
              "  background-color: #f4f4be;\n",
              "  color: #000000;\n",
              "}\n",
              "#T_9104b_row1_col0, #T_9104b_row1_col1, #T_9104b_row1_col2, #T_9104b_row3_col3, #T_9104b_row4_col3 {\n",
              "  background-color: #ffff00;\n",
              "  color: #000000;\n",
              "}\n",
              "#T_9104b_row1_col3, #T_9104b_row2_col1, #T_9104b_row4_col0, #T_9104b_row4_col1, #T_9104b_row4_col2 {\n",
              "  background-color: #fdfd1f;\n",
              "  color: #000000;\n",
              "}\n",
              "#T_9104b_row2_col0 {\n",
              "  background-color: #fefe19;\n",
              "  color: #000000;\n",
              "}\n",
              "#T_9104b_row2_col2 {\n",
              "  background-color: #fdfd1d;\n",
              "  color: #000000;\n",
              "}\n",
              "#T_9104b_row3_col0, #T_9104b_row3_col2 {\n",
              "  background-color: #f9f96e;\n",
              "  color: #000000;\n",
              "}\n",
              "#T_9104b_row3_col1 {\n",
              "  background-color: #f8f86f;\n",
              "  color: #000000;\n",
              "}\n",
              "</style>\n",
              "<table id=\"T_9104b\" class=\"dataframe\">\n",
              "  <thead>\n",
              "    <tr>\n",
              "      <th class=\"blank level0\" >&nbsp;</th>\n",
              "      <th id=\"T_9104b_level0_col0\" class=\"col_heading level0 col0\" >precision</th>\n",
              "      <th id=\"T_9104b_level0_col1\" class=\"col_heading level0 col1\" >recall</th>\n",
              "      <th id=\"T_9104b_level0_col2\" class=\"col_heading level0 col2\" >f1-score</th>\n",
              "      <th id=\"T_9104b_level0_col3\" class=\"col_heading level0 col3\" >support</th>\n",
              "    </tr>\n",
              "  </thead>\n",
              "  <tbody>\n",
              "    <tr>\n",
              "      <th id=\"T_9104b_level0_row0\" class=\"row_heading level0 row0\" >0</th>\n",
              "      <td id=\"T_9104b_row0_col0\" class=\"data row0 col0\" >0.727900</td>\n",
              "      <td id=\"T_9104b_row0_col1\" class=\"data row0 col1\" >0.598300</td>\n",
              "      <td id=\"T_9104b_row0_col2\" class=\"data row0 col2\" >0.656800</td>\n",
              "      <td id=\"T_9104b_row0_col3\" class=\"data row0 col3\" >702.000000</td>\n",
              "    </tr>\n",
              "    <tr>\n",
              "      <th id=\"T_9104b_level0_row1\" class=\"row_heading level0 row1\" >1</th>\n",
              "      <td id=\"T_9104b_row1_col0\" class=\"data row1 col0\" >0.935700</td>\n",
              "      <td id=\"T_9104b_row1_col1\" class=\"data row1 col1\" >0.963100</td>\n",
              "      <td id=\"T_9104b_row1_col2\" class=\"data row1 col2\" >0.949200</td>\n",
              "      <td id=\"T_9104b_row1_col3\" class=\"data row1 col3\" >4260.000000</td>\n",
              "    </tr>\n",
              "    <tr>\n",
              "      <th id=\"T_9104b_level0_row2\" class=\"row_heading level0 row2\" >accuracy</th>\n",
              "      <td id=\"T_9104b_row2_col0\" class=\"data row2 col0\" >0.911500</td>\n",
              "      <td id=\"T_9104b_row2_col1\" class=\"data row2 col1\" >0.911500</td>\n",
              "      <td id=\"T_9104b_row2_col2\" class=\"data row2 col2\" >0.911500</td>\n",
              "      <td id=\"T_9104b_row2_col3\" class=\"data row2 col3\" >0.911500</td>\n",
              "    </tr>\n",
              "    <tr>\n",
              "      <th id=\"T_9104b_level0_row3\" class=\"row_heading level0 row3\" >macro avg</th>\n",
              "      <td id=\"T_9104b_row3_col0\" class=\"data row3 col0\" >0.831800</td>\n",
              "      <td id=\"T_9104b_row3_col1\" class=\"data row3 col1\" >0.780700</td>\n",
              "      <td id=\"T_9104b_row3_col2\" class=\"data row3 col2\" >0.803000</td>\n",
              "      <td id=\"T_9104b_row3_col3\" class=\"data row3 col3\" >4962.000000</td>\n",
              "    </tr>\n",
              "    <tr>\n",
              "      <th id=\"T_9104b_level0_row4\" class=\"row_heading level0 row4\" >weighted avg</th>\n",
              "      <td id=\"T_9104b_row4_col0\" class=\"data row4 col0\" >0.906300</td>\n",
              "      <td id=\"T_9104b_row4_col1\" class=\"data row4 col1\" >0.911500</td>\n",
              "      <td id=\"T_9104b_row4_col2\" class=\"data row4 col2\" >0.907800</td>\n",
              "      <td id=\"T_9104b_row4_col3\" class=\"data row4 col3\" >4962.000000</td>\n",
              "    </tr>\n",
              "  </tbody>\n",
              "</table>\n"
            ]
          },
          "metadata": {},
          "execution_count": 16
        }
      ]
    },
    {
      "cell_type": "code",
      "source": [
        "# confusion matrix\n",
        "svr_lin_predictions=svr_lin.predict(tvec.transform(X_test_cleaned))\n",
        "ax= plt.subplot()\n",
        "cm=confusion_matrix(Y_test,svr_lin_predictions)\n",
        "sns.heatmap(cm, annot=True, fmt='g', ax=ax,cmap='Greens');\n",
        "ax.set_xlabel('Predicted labels');ax.set_ylabel('True labels');\n",
        "ax.set_title('Confusion Matrix');\n",
        "ax.xaxis.set_ticklabels(['negative', 'positive']); ax.yaxis.set_ticklabels(['negative', 'positive']);"
      ],
      "metadata": {
        "colab": {
          "base_uri": "https://localhost:8080/",
          "height": 472
        },
        "id": "BKAxuo5vMHdn",
        "outputId": "e863cf9e-7a2c-426d-fb95-f31e3b469cfb"
      },
      "execution_count": null,
      "outputs": [
        {
          "output_type": "display_data",
          "data": {
            "text/plain": [
              "<Figure size 640x480 with 2 Axes>"
            ],
            "image/png": "[encoded data removed]"
          },
          "metadata": {}
        }
      ]
    },
    {
      "cell_type": "code",
      "source": [
        "# testing the model with sample 'Negative' review\n",
        "demo_review = np.array(['three days of use and it broke very disappointed in this product it worked perfectly for exactly three days and could not be resuscitated it was very inexpensive so i did not want to pay half again the price to ship it back for an exchange so the company would do nothing when they sent me an inquiry as to product satisfaction'])\n",
        "demo_review_X_test = tvec.transform(demo_review)\n",
        "print(svr_lin.predict(demo_review_X_test))\n",
        "\n",
        "# expected output = 0 (Negative)\n",
        "# actual output = 0 (Negative)"
      ],
      "metadata": {
        "colab": {
          "base_uri": "https://localhost:8080/"
        },
        "id": "UZ0rAfoZMLdv",
        "outputId": "2795da25-70c9-44da-cb77-a1bd197294fa"
      },
      "execution_count": null,
      "outputs": [
        {
          "output_type": "stream",
          "name": "stdout",
          "text": [
            "[0]\n"
          ]
        }
      ]
    },
    {
      "cell_type": "code",
      "source": [
        "# testing the model with sample 'Positive' review\n",
        "demo_review_2 = np.array(['Excellent product. Works well and performs as expected.'])\n",
        "demo_review_X_test_2 = tvec.transform(demo_review_2)\n",
        "print(svr_lin.predict(demo_review_X_test_2))\n",
        "\n",
        "# expected output = 1 (Positive)\n",
        "# actual output = 1 (Positive)"
      ],
      "metadata": {
        "colab": {
          "base_uri": "https://localhost:8080/"
        },
        "id": "zUEDDlY6MNq4",
        "outputId": "4e6f6410-0a96-4e76-e692-a052734bebc0"
      },
      "execution_count": null,
      "outputs": [
        {
          "output_type": "stream",
          "name": "stdout",
          "text": [
            "[1]\n"
          ]
        }
      ]
    },
    {
      "cell_type": "code",
      "source": [
        "# Random Forest model\n",
        "random_forest = RandomForestClassifier(n_estimators=20,random_state=42)\n",
        "\n",
        "# Perform 4-fold cross-validation\n",
        "kf_4 = KFold(n_splits=4, shuffle=True, random_state=42)\n",
        "cv_scores_4 = cross_val_score(random_forest, X_train_tvec, Y_train, cv=kf_4, scoring='accuracy')\n",
        "\n",
        "# Create a DataFrame to store cross-validation results\n",
        "cv_results_4 = pd.DataFrame(index=range(1, 5))\n",
        "cv_results_4['Accuracy'] = cv_scores_4\n",
        "cv_results_4['Precision'] = cross_val_score(random_forest, X_train_tvec, Y_train, cv=kf_4, scoring='precision_macro')\n",
        "cv_results_4['Recall'] = cross_val_score(random_forest, X_train_tvec, Y_train, cv=kf_4, scoring='recall_macro')\n",
        "cv_results_4['F1 Score'] = cross_val_score(random_forest, X_train_tvec, Y_train, cv=kf_4, scoring='f1_macro')\n",
        "\n",
        "# Print 4-fold cross-validation results\n",
        "print(\"4-Fold Cross-Validation Results:\")\n",
        "print(cv_results_4)\n",
        "\n",
        "# Calculate and print mean scores for 4-fold cross-validation\n",
        "print(\"\\nMean Scores for 4-Fold Cross-Validation:\")\n",
        "print(\"Mean Accuracy:\", cv_scores_4.mean())\n",
        "print(\"Mean Precision:\", cv_results_4['Precision'].mean())\n",
        "print(\"Mean Recall:\", cv_results_4['Recall'].mean())\n",
        "print(\"Mean F1 Score:\", cv_results_4['F1 Score'].mean())\n",
        "\n",
        "# Perform 10-fold cross-validation\n",
        "kf_10 = KFold(n_splits=10, shuffle=True, random_state=42)\n",
        "cv_scores_10 = cross_val_score(random_forest, X_train_tvec, Y_train, cv=kf_10, scoring='accuracy')\n",
        "\n",
        "# Create a DataFrame to store cross-validation results\n",
        "cv_results_10 = pd.DataFrame(index=range(1, 11))\n",
        "cv_results_10['Accuracy'] = cv_scores_10\n",
        "cv_results_10['Precision'] = cross_val_score(random_forest, X_train_tvec, Y_train, cv=kf_10, scoring='precision_macro')\n",
        "cv_results_10['Recall'] = cross_val_score(random_forest, X_train_tvec, Y_train, cv=kf_10, scoring='recall_macro')\n",
        "cv_results_10['F1 Score'] = cross_val_score(random_forest, X_train_tvec, Y_train, cv=kf_10, scoring='f1_macro')\n",
        "\n",
        "# Print 10-fold cross-validation results\n",
        "print(\"\\n10-Fold Cross-Validation Results:\")\n",
        "print(cv_results_10)\n",
        "\n",
        "# Calculate and print mean scores for 10-fold cross-validation\n",
        "print(\"\\nMean Scores for 10-Fold Cross-Validation:\")\n",
        "print(\"Mean Accuracy:\", cv_scores_10.mean())\n",
        "print(\"Mean Precision:\", cv_results_10['Precision'].mean())\n",
        "print(\"Mean Recall:\", cv_results_10['Recall'].mean())\n",
        "print(\"Mean F1 Score:\", cv_results_10['F1 Score'].mean())\n"
      ],
      "metadata": {
        "colab": {
          "base_uri": "https://localhost:8080/"
        },
        "id": "G3sh7CcqMP7n",
        "outputId": "17967535-b388-466d-a94c-560f14df8e72"
      },
      "execution_count": null,
      "outputs": [
        {
          "output_type": "stream",
          "name": "stdout",
          "text": [
            "4-Fold Cross-Validation Results:\n",
            "   Accuracy  Precision    Recall  F1 Score\n",
            "1  0.876260   0.869803  0.599046  0.630766\n",
            "2  0.880089   0.860624  0.605188  0.639717\n",
            "3  0.879484   0.864663  0.604672  0.638971\n",
            "4  0.867970   0.851744  0.591098  0.617681\n",
            "\n",
            "Mean Scores for 4-Fold Cross-Validation:\n",
            "Mean Accuracy: 0.8759506232450275\n",
            "Mean Precision: 0.8617085886994895\n",
            "Mean Recall: 0.6000011954770916\n",
            "Mean F1 Score: 0.6317837538360113\n",
            "\n",
            "10-Fold Cross-Validation Results:\n",
            "    Accuracy  Precision    Recall  F1 Score\n",
            "1   0.872040   0.849508  0.603674  0.635549\n",
            "2   0.888161   0.864579  0.638882  0.682929\n",
            "3   0.884635   0.897702  0.634134  0.678099\n",
            "4   0.874559   0.806114  0.586620  0.612888\n",
            "5   0.879093   0.840992  0.595180  0.625923\n",
            "6   0.889673   0.849138  0.612178  0.650568\n",
            "7   0.875567   0.866036  0.619911  0.657416\n",
            "8   0.880040   0.856163  0.625249  0.664674\n",
            "9   0.876512   0.842178  0.622635  0.660171\n",
            "10  0.864919   0.861173  0.591338  0.617209\n",
            "\n",
            "Mean Scores for 10-Fold Cross-Validation:\n",
            "Mean Accuracy: 0.878519973389128\n",
            "Mean Precision: 0.8533584281062241\n",
            "Mean Recall: 0.6129802011645866\n",
            "Mean F1 Score: 0.6485426306015392\n"
          ]
        }
      ]
    },
    {
      "cell_type": "code",
      "source": [
        "# Predict using training and testing data and display the accuracy, f-1 score, precision for Positive and Negative Sentiment Classifiers\n",
        "random_forest.fit(X_train_tvec, Y_train)\n",
        "ranfrst_predictions = random_forest.predict(tvec.transform(X_test_cleaned))\n",
        "report = classification_report(Y_test,ranfrst_predictions, output_dict=True)\n",
        "data_report = pd.DataFrame(report).transpose().round(4)\n",
        "cm = sns.light_palette(\"red\", as_cmap=True)\n",
        "data_report.style.background_gradient(cmap=cm)"
      ],
      "metadata": {
        "colab": {
          "base_uri": "https://localhost:8080/",
          "height": 206
        },
        "id": "Bw0lVP6iMSOH",
        "outputId": "9668f762-f59f-4c4c-e88c-14a6bebd6581"
      },
      "execution_count": null,
      "outputs": [
        {
          "output_type": "execute_result",
          "data": {
            "text/plain": [
              "<pandas.io.formats.style.Styler at 0x7f864e226770>"
            ],
            "text/html": [
              "<style type=\"text/css\">\n",
              "#T_9e87b_row0_col0, #T_9e87b_row0_col1, #T_9e87b_row0_col2, #T_9e87b_row2_col3 {\n",
              "  background-color: #f3f0f0;\n",
              "  color: #000000;\n",
              "}\n",
              "#T_9e87b_row0_col3 {\n",
              "  background-color: #f5cece;\n",
              "  color: #000000;\n",
              "}\n",
              "#T_9e87b_row1_col0, #T_9e87b_row1_col1, #T_9e87b_row1_col2, #T_9e87b_row3_col3, #T_9e87b_row4_col3 {\n",
              "  background-color: #ff0000;\n",
              "  color: #f1f1f1;\n",
              "}\n",
              "#T_9e87b_row1_col3, #T_9e87b_row2_col1, #T_9e87b_row4_col0, #T_9e87b_row4_col1, #T_9e87b_row4_col2 {\n",
              "  background-color: #fd2222;\n",
              "  color: #f1f1f1;\n",
              "}\n",
              "#T_9e87b_row2_col0 {\n",
              "  background-color: #ff0808;\n",
              "  color: #f1f1f1;\n",
              "}\n",
              "#T_9e87b_row2_col2 {\n",
              "  background-color: #fe1616;\n",
              "  color: #f1f1f1;\n",
              "}\n",
              "#T_9e87b_row3_col0, #T_9e87b_row3_col1, #T_9e87b_row3_col2 {\n",
              "  background-color: #f97878;\n",
              "  color: #f1f1f1;\n",
              "}\n",
              "</style>\n",
              "<table id=\"T_9e87b\" class=\"dataframe\">\n",
              "  <thead>\n",
              "    <tr>\n",
              "      <th class=\"blank level0\" >&nbsp;</th>\n",
              "      <th id=\"T_9e87b_level0_col0\" class=\"col_heading level0 col0\" >precision</th>\n",
              "      <th id=\"T_9e87b_level0_col1\" class=\"col_heading level0 col1\" >recall</th>\n",
              "      <th id=\"T_9e87b_level0_col2\" class=\"col_heading level0 col2\" >f1-score</th>\n",
              "      <th id=\"T_9e87b_level0_col3\" class=\"col_heading level0 col3\" >support</th>\n",
              "    </tr>\n",
              "  </thead>\n",
              "  <tbody>\n",
              "    <tr>\n",
              "      <th id=\"T_9e87b_level0_row0\" class=\"row_heading level0 row0\" >0</th>\n",
              "      <td id=\"T_9e87b_row0_col0\" class=\"data row0 col0\" >0.789500</td>\n",
              "      <td id=\"T_9e87b_row0_col1\" class=\"data row0 col1\" >0.213700</td>\n",
              "      <td id=\"T_9e87b_row0_col2\" class=\"data row0 col2\" >0.336300</td>\n",
              "      <td id=\"T_9e87b_row0_col3\" class=\"data row0 col3\" >702.000000</td>\n",
              "    </tr>\n",
              "    <tr>\n",
              "      <th id=\"T_9e87b_level0_row1\" class=\"row_heading level0 row1\" >1</th>\n",
              "      <td id=\"T_9e87b_row1_col0\" class=\"data row1 col0\" >0.884300</td>\n",
              "      <td id=\"T_9e87b_row1_col1\" class=\"data row1 col1\" >0.990600</td>\n",
              "      <td id=\"T_9e87b_row1_col2\" class=\"data row1 col2\" >0.934500</td>\n",
              "      <td id=\"T_9e87b_row1_col3\" class=\"data row1 col3\" >4260.000000</td>\n",
              "    </tr>\n",
              "    <tr>\n",
              "      <th id=\"T_9e87b_level0_row2\" class=\"row_heading level0 row2\" >accuracy</th>\n",
              "      <td id=\"T_9e87b_row2_col0\" class=\"data row2 col0\" >0.880700</td>\n",
              "      <td id=\"T_9e87b_row2_col1\" class=\"data row2 col1\" >0.880700</td>\n",
              "      <td id=\"T_9e87b_row2_col2\" class=\"data row2 col2\" >0.880700</td>\n",
              "      <td id=\"T_9e87b_row2_col3\" class=\"data row2 col3\" >0.880700</td>\n",
              "    </tr>\n",
              "    <tr>\n",
              "      <th id=\"T_9e87b_level0_row3\" class=\"row_heading level0 row3\" >macro avg</th>\n",
              "      <td id=\"T_9e87b_row3_col0\" class=\"data row3 col0\" >0.836900</td>\n",
              "      <td id=\"T_9e87b_row3_col1\" class=\"data row3 col1\" >0.602100</td>\n",
              "      <td id=\"T_9e87b_row3_col2\" class=\"data row3 col2\" >0.635400</td>\n",
              "      <td id=\"T_9e87b_row3_col3\" class=\"data row3 col3\" >4962.000000</td>\n",
              "    </tr>\n",
              "    <tr>\n",
              "      <th id=\"T_9e87b_level0_row4\" class=\"row_heading level0 row4\" >weighted avg</th>\n",
              "      <td id=\"T_9e87b_row4_col0\" class=\"data row4 col0\" >0.870900</td>\n",
              "      <td id=\"T_9e87b_row4_col1\" class=\"data row4 col1\" >0.880700</td>\n",
              "      <td id=\"T_9e87b_row4_col2\" class=\"data row4 col2\" >0.849800</td>\n",
              "      <td id=\"T_9e87b_row4_col3\" class=\"data row4 col3\" >4962.000000</td>\n",
              "    </tr>\n",
              "  </tbody>\n",
              "</table>\n"
            ]
          },
          "metadata": {},
          "execution_count": 20
        }
      ]
    },
    {
      "cell_type": "code",
      "source": [
        "# confusion matrix\n",
        "ranfrst_predictions=random_forest.predict(tvec.transform(X_test_cleaned))\n",
        "ax= plt.subplot()\n",
        "cm=confusion_matrix(Y_test,ranfrst_predictions)\n",
        "sns.heatmap(cm, annot=True, fmt='g', ax=ax,cmap='Oranges');\n",
        "ax.set_xlabel('Predicted labels');ax.set_ylabel('True labels');\n",
        "ax.set_title('Confusion Matrix');\n",
        "ax.xaxis.set_ticklabels(['negative', 'positive']); ax.yaxis.set_ticklabels(['negative', 'positive']);"
      ],
      "metadata": {
        "colab": {
          "base_uri": "https://localhost:8080/",
          "height": 472
        },
        "id": "Gzu3_BYiMTOG",
        "outputId": "d98e8e3c-dab7-42c7-e927-b51913208afb"
      },
      "execution_count": null,
      "outputs": [
        {
          "output_type": "display_data",
          "data": {
            "text/plain": [
              "<Figure size 640x480 with 2 Axes>"
            ],
            "image/png": "[encoded data removed]"
          },
          "metadata": {}
        }
      ]
    },
    {
      "cell_type": "code",
      "source": [
        "# testing the model with sample 'Negative' review\n",
        "demo_review = np.array(['Do not buy. Fake Product.'])\n",
        "demo_review_X_test = tvec.transform(demo_review)\n",
        "print(random_forest.predict(demo_review_X_test))\n",
        "\n",
        "# expected output = 0 (Negative)\n",
        "# actual output = 0 (Negative)"
      ],
      "metadata": {
        "colab": {
          "base_uri": "https://localhost:8080/"
        },
        "id": "FS4oUwy9MaZp",
        "outputId": "c26fddab-5d85-4aec-8b37-e546a6080c5c"
      },
      "execution_count": null,
      "outputs": [
        {
          "output_type": "stream",
          "name": "stdout",
          "text": [
            "[0]\n"
          ]
        }
      ]
    },
    {
      "cell_type": "code",
      "source": [
        "# testing the model with sample 'Positive' review\n",
        "demo_review_2 = np.array(['Original Product. Great Performance.'])\n",
        "demo_review_X_test_2 = tvec.transform(demo_review_2)\n",
        "print(random_forest.predict(demo_review_X_test_2))\n",
        "\n",
        "# expected output = 1 (Positive)\n",
        "# actual output = 1 (Positive)"
      ],
      "metadata": {
        "colab": {
          "base_uri": "https://localhost:8080/"
        },
        "id": "eweTyPmxMbZn",
        "outputId": "aeee3a49-59e1-41f3-a85d-68dfe04cae0e"
      },
      "execution_count": null,
      "outputs": [
        {
          "output_type": "stream",
          "name": "stdout",
          "text": [
            "[1]\n"
          ]
        }
      ]
    },
    {
      "cell_type": "code",
      "source": [
        "# K-Nearest Neighbor model\n",
        "knn = KNeighborsClassifier(n_neighbors=3,metric='manhattan')\n",
        "\n",
        "# Perform 4-fold cross-validation\n",
        "kf_4 = KFold(n_splits=4, shuffle=True, random_state=42)\n",
        "cv_scores_4 = cross_val_score(knn, X_train_tvec, Y_train, cv=kf_4, scoring='accuracy')\n",
        "\n",
        "# Create a DataFrame to store cross-validation results\n",
        "cv_results_4 = pd.DataFrame(index=range(1, 5))\n",
        "cv_results_4['Accuracy'] = cv_scores_4\n",
        "cv_results_4['Precision'] = cross_val_score(knn, X_train_tvec, Y_train, cv=kf_4, scoring='precision_macro')\n",
        "cv_results_4['Recall'] = cross_val_score(knn, X_train_tvec, Y_train, cv=kf_4, scoring='recall_macro')\n",
        "cv_results_4['F1 Score'] = cross_val_score(knn, X_train_tvec, Y_train, cv=kf_4, scoring='f1_macro')\n",
        "\n",
        "# Print 4-fold cross-validation results\n",
        "print(\"4-Fold Cross-Validation Results:\")\n",
        "print(cv_results_4)\n",
        "\n",
        "# Calculate and print mean scores for 4-fold cross-validation\n",
        "print(\"\\nMean Scores for 4-Fold Cross-Validation:\")\n",
        "print(\"Mean Accuracy:\", cv_scores_4.mean())\n",
        "print(\"Mean Precision:\", cv_results_4['Precision'].mean())\n",
        "print(\"Mean Recall:\", cv_results_4['Recall'].mean())\n",
        "print(\"Mean F1 Score:\", cv_results_4['F1 Score'].mean())\n",
        "\n",
        "# Perform 10-fold cross-validation\n",
        "kf_10 = KFold(n_splits=10, shuffle=True, random_state=42)\n",
        "cv_scores_10 = cross_val_score(knn, X_train_tvec, Y_train, cv=kf_10, scoring='accuracy')\n",
        "\n",
        "# Create a DataFrame to store cross-validation results\n",
        "cv_results_10 = pd.DataFrame(index=range(1, 11))\n",
        "cv_results_10['Accuracy'] = cv_scores_10\n",
        "cv_results_10['Precision'] = cross_val_score(knn, X_train_tvec, Y_train, cv=kf_10, scoring='precision_macro')\n",
        "cv_results_10['Recall'] = cross_val_score(knn, X_train_tvec, Y_train, cv=kf_10, scoring='recall_macro')\n",
        "cv_results_10['F1 Score'] = cross_val_score(knn, X_train_tvec, Y_train, cv=kf_10, scoring='f1_macro')\n",
        "\n",
        "# Print 10-fold cross-validation results\n",
        "print(\"\\n10-Fold Cross-Validation Results:\")\n",
        "print(cv_results_10)\n",
        "\n",
        "# Calculate and print mean scores for 10-fold cross-validation\n",
        "print(\"\\nMean Scores for 10-Fold Cross-Validation:\")\n",
        "print(\"Mean Accuracy:\", cv_scores_10.mean())\n",
        "print(\"Mean Precision:\", cv_results_10['Precision'].mean())\n",
        "print(\"Mean Recall:\", cv_results_10['Recall'].mean())\n",
        "print(\"Mean F1 Score:\", cv_results_10['F1 Score'].mean())\n",
        "\n"
      ],
      "metadata": {
        "colab": {
          "base_uri": "https://localhost:8080/"
        },
        "id": "-GprqBVzMfrw",
        "outputId": "b414ca6d-115b-4d53-92de-385e7b88721e"
      },
      "execution_count": null,
      "outputs": [
        {
          "output_type": "stream",
          "name": "stdout",
          "text": [
            "4-Fold Cross-Validation Results:\n",
            "   Accuracy  Precision    Recall  F1 Score\n",
            "1  0.851673   0.814792  0.504486  0.469220\n",
            "2  0.855905   0.837085  0.505997  0.473382\n",
            "3  0.854696   0.864831  0.504696  0.470292\n",
            "4  0.846200   0.823170  0.507414  0.473485\n",
            "\n",
            "Mean Scores for 4-Fold Cross-Validation:\n",
            "Mean Accuracy: 0.8521184099336372\n",
            "Mean Precision: 0.8349698308249442\n",
            "Mean Recall: 0.5056483639289755\n",
            "Mean F1 Score: 0.4715947436754143\n",
            "\n",
            "10-Fold Cross-Validation Results:\n",
            "    Accuracy  Precision    Recall  F1 Score\n",
            "1   0.846348   0.723485  0.504306  0.467968\n",
            "2   0.854912   0.760932  0.503165  0.467698\n",
            "3   0.848866   0.924281  0.506579  0.472026\n",
            "4   0.860453   0.858804  0.510345  0.483136\n",
            "5   0.859446   0.829798  0.506799  0.476061\n",
            "6   0.867506   0.833838  0.507228  0.479210\n",
            "7   0.843829   0.755382  0.502917  0.463973\n",
            "8   0.850302   0.825215  0.506370  0.472574\n",
            "9   0.850302   0.834332  0.514207  0.487920\n",
            "10  0.840222   0.753576  0.502845  0.462770\n",
            "\n",
            "Mean Scores for 10-Fold Cross-Validation:\n",
            "Mean Accuracy: 0.8522186814414562\n",
            "Mean Precision: 0.8099641402566938\n",
            "Mean Recall: 0.5064760369810111\n",
            "Mean F1 Score: 0.4733335430131188\n"
          ]
        }
      ]
    },
    {
      "cell_type": "code",
      "source": [
        "#Predict using training and testing data and display the accuracy, f-1 score, precision for Positive and Negative Sentiment Classifiers\n",
        "knn = KNeighborsClassifier(n_neighbors=3,metric='manhattan')\n",
        "knn.fit(X_train_tvec, Y_train)\n",
        "knn_predictions = knn.predict(tvec.transform(X_test_cleaned))\n",
        "report = classification_report(Y_test,knn_predictions, output_dict=True)\n",
        "data_report = pd.DataFrame(report).transpose().round(4)\n",
        "cm = sns.light_palette(\"gray\", as_cmap=True)\n",
        "data_report.style.background_gradient(cmap=cm)"
      ],
      "metadata": {
        "colab": {
          "base_uri": "https://localhost:8080/",
          "height": 206
        },
        "id": "2LFKNoYiMiAv",
        "outputId": "9a3ea66a-335f-4a78-8267-1c062c24d215"
      },
      "execution_count": null,
      "outputs": [
        {
          "output_type": "execute_result",
          "data": {
            "text/plain": [
              "<pandas.io.formats.style.Styler at 0x7f864e2253c0>"
            ],
            "text/html": [
              "<style type=\"text/css\">\n",
              "#T_95337_row0_col0, #T_95337_row0_col1, #T_95337_row0_col2, #T_95337_row2_col3 {\n",
              "  background-color: #f1f1f1;\n",
              "  color: #000000;\n",
              "}\n",
              "#T_95337_row0_col3 {\n",
              "  background-color: #e1e1e1;\n",
              "  color: #000000;\n",
              "}\n",
              "#T_95337_row1_col0, #T_95337_row1_col1, #T_95337_row1_col2, #T_95337_row2_col0, #T_95337_row3_col3, #T_95337_row4_col3 {\n",
              "  background-color: #808080;\n",
              "  color: #f1f1f1;\n",
              "}\n",
              "#T_95337_row1_col3, #T_95337_row2_col1, #T_95337_row4_col0, #T_95337_row4_col1, #T_95337_row4_col2 {\n",
              "  background-color: #909090;\n",
              "  color: #f1f1f1;\n",
              "}\n",
              "#T_95337_row2_col2 {\n",
              "  background-color: #888888;\n",
              "  color: #f1f1f1;\n",
              "}\n",
              "#T_95337_row3_col0, #T_95337_row3_col1, #T_95337_row3_col2 {\n",
              "  background-color: #b8b8b8;\n",
              "  color: #000000;\n",
              "}\n",
              "</style>\n",
              "<table id=\"T_95337\" class=\"dataframe\">\n",
              "  <thead>\n",
              "    <tr>\n",
              "      <th class=\"blank level0\" >&nbsp;</th>\n",
              "      <th id=\"T_95337_level0_col0\" class=\"col_heading level0 col0\" >precision</th>\n",
              "      <th id=\"T_95337_level0_col1\" class=\"col_heading level0 col1\" >recall</th>\n",
              "      <th id=\"T_95337_level0_col2\" class=\"col_heading level0 col2\" >f1-score</th>\n",
              "      <th id=\"T_95337_level0_col3\" class=\"col_heading level0 col3\" >support</th>\n",
              "    </tr>\n",
              "  </thead>\n",
              "  <tbody>\n",
              "    <tr>\n",
              "      <th id=\"T_95337_level0_row0\" class=\"row_heading level0 row0\" >0</th>\n",
              "      <td id=\"T_95337_row0_col0\" class=\"data row0 col0\" >0.571400</td>\n",
              "      <td id=\"T_95337_row0_col1\" class=\"data row0 col1\" >0.005700</td>\n",
              "      <td id=\"T_95337_row0_col2\" class=\"data row0 col2\" >0.011300</td>\n",
              "      <td id=\"T_95337_row0_col3\" class=\"data row0 col3\" >702.000000</td>\n",
              "    </tr>\n",
              "    <tr>\n",
              "      <th id=\"T_95337_level0_row1\" class=\"row_heading level0 row1\" >1</th>\n",
              "      <td id=\"T_95337_row1_col0\" class=\"data row1 col0\" >0.859100</td>\n",
              "      <td id=\"T_95337_row1_col1\" class=\"data row1 col1\" >0.999300</td>\n",
              "      <td id=\"T_95337_row1_col2\" class=\"data row1 col2\" >0.923900</td>\n",
              "      <td id=\"T_95337_row1_col3\" class=\"data row1 col3\" >4260.000000</td>\n",
              "    </tr>\n",
              "    <tr>\n",
              "      <th id=\"T_95337_level0_row2\" class=\"row_heading level0 row2\" >accuracy</th>\n",
              "      <td id=\"T_95337_row2_col0\" class=\"data row2 col0\" >0.858700</td>\n",
              "      <td id=\"T_95337_row2_col1\" class=\"data row2 col1\" >0.858700</td>\n",
              "      <td id=\"T_95337_row2_col2\" class=\"data row2 col2\" >0.858700</td>\n",
              "      <td id=\"T_95337_row2_col3\" class=\"data row2 col3\" >0.858700</td>\n",
              "    </tr>\n",
              "    <tr>\n",
              "      <th id=\"T_95337_level0_row3\" class=\"row_heading level0 row3\" >macro avg</th>\n",
              "      <td id=\"T_95337_row3_col0\" class=\"data row3 col0\" >0.715300</td>\n",
              "      <td id=\"T_95337_row3_col1\" class=\"data row3 col1\" >0.502500</td>\n",
              "      <td id=\"T_95337_row3_col2\" class=\"data row3 col2\" >0.467600</td>\n",
              "      <td id=\"T_95337_row3_col3\" class=\"data row3 col3\" >4962.000000</td>\n",
              "    </tr>\n",
              "    <tr>\n",
              "      <th id=\"T_95337_level0_row4\" class=\"row_heading level0 row4\" >weighted avg</th>\n",
              "      <td id=\"T_95337_row4_col0\" class=\"data row4 col0\" >0.818400</td>\n",
              "      <td id=\"T_95337_row4_col1\" class=\"data row4 col1\" >0.858700</td>\n",
              "      <td id=\"T_95337_row4_col2\" class=\"data row4 col2\" >0.794800</td>\n",
              "      <td id=\"T_95337_row4_col3\" class=\"data row4 col3\" >4962.000000</td>\n",
              "    </tr>\n",
              "  </tbody>\n",
              "</table>\n"
            ]
          },
          "metadata": {},
          "execution_count": 21
        }
      ]
    },
    {
      "cell_type": "code",
      "source": [
        "# confusion matrix\n",
        "knn_predictions=knn.predict(tvec.transform(X_test_cleaned))\n",
        "ax= plt.subplot()\n",
        "cm=confusion_matrix(Y_test,knn_predictions)\n",
        "sns.heatmap(cm, annot=True, fmt='g', ax=ax,cmap='Reds');\n",
        "ax.set_xlabel('Predicted labels');ax.set_ylabel('True labels');\n",
        "ax.set_title('Confusion Matrix');\n",
        "ax.xaxis.set_ticklabels(['negative', 'positive']); ax.yaxis.set_ticklabels(['negative', 'positive']);"
      ],
      "metadata": {
        "colab": {
          "base_uri": "https://localhost:8080/",
          "height": 472
        },
        "id": "LioxGCXlMkSf",
        "outputId": "736fe5f3-7f34-487f-c735-cd9d8f06a241"
      },
      "execution_count": null,
      "outputs": [
        {
          "output_type": "display_data",
          "data": {
            "text/plain": [
              "<Figure size 640x480 with 2 Axes>"
            ],
            "image/png": "[encoded data removed]"
          },
          "metadata": {}
        }
      ]
    },
    {
      "cell_type": "code",
      "source": [
        "# testing the model with sample 'Negative' review\n",
        "demo_review = np.array(['Bad product. Very much disappointed'])\n",
        "demo_review_X_test = tvec.transform(demo_review)\n",
        "print(knn.predict(demo_review_X_test))\n",
        "\n",
        "# expected output = 0 (Negative)\n",
        "# actual output = 0 (Negative)"
      ],
      "metadata": {
        "colab": {
          "base_uri": "https://localhost:8080/"
        },
        "id": "mJKHthD3MmJO",
        "outputId": "b9c4cc83-505d-4ab9-c34c-72da09aebe1b"
      },
      "execution_count": null,
      "outputs": [
        {
          "output_type": "stream",
          "name": "stdout",
          "text": [
            "[0]\n"
          ]
        }
      ]
    },
    {
      "cell_type": "code",
      "source": [
        "# testing the model with sample 'Positive' review\n",
        "demo_review_2 = np.array(['Excellent product. Works well and performs as expected.'])\n",
        "demo_review_X_test_2 = tvec.transform(demo_review_2)\n",
        "print(knn.predict(demo_review_X_test_2))\n",
        "\n",
        "# expected output = 1 (Positive)\n",
        "# actual output = 1 (Positive)"
      ],
      "metadata": {
        "colab": {
          "base_uri": "https://localhost:8080/"
        },
        "id": "2ep_NzGpMoE2",
        "outputId": "f5d3fd07-0878-4fd9-f2ca-a2645e5cfe68"
      },
      "execution_count": null,
      "outputs": [
        {
          "output_type": "stream",
          "name": "stdout",
          "text": [
            "[1]\n"
          ]
        }
      ]
    },
    {
      "cell_type": "code",
      "source": [
        "# Define the Logistic Regression model\n",
        "logistic_classifier = LogisticRegression(random_state=42)\n",
        "\n",
        "# Perform 4-fold cross-validation\n",
        "kf_4 = KFold(n_splits=4, shuffle=True, random_state=42)\n",
        "cv_scores_4 = cross_val_score(logistic_classifier, X_train_tvec, Y_train, cv=kf_4, scoring='accuracy')\n",
        "\n",
        "# Create a DataFrame to store cross-validation results\n",
        "cv_results_4 = pd.DataFrame(index=range(1, 5))\n",
        "cv_results_4['Accuracy'] = cv_scores_4\n",
        "cv_results_4['Precision'] = cross_val_score(logistic_classifier, X_train_tvec, Y_train, cv=kf_4, scoring='precision_macro')\n",
        "cv_results_4['Recall'] = cross_val_score(logistic_classifier, X_train_tvec, Y_train, cv=kf_4, scoring='recall_macro')\n",
        "cv_results_4['F1 Score'] = cross_val_score(logistic_classifier, X_train_tvec, Y_train, cv=kf_4, scoring='f1_macro')\n",
        "\n",
        "# Print 4-fold cross-validation results\n",
        "print(\"4-Fold Cross-Validation Results for Logistic Regression Classifier:\")\n",
        "print(cv_results_4)\n",
        "\n",
        "# Calculate and print mean scores for 4-fold cross-validation\n",
        "print(\"\\nMean Scores for 4-Fold Cross-Validation:\")\n",
        "print(\"Mean Accuracy:\", cv_scores_4.mean())\n",
        "print(\"Mean Precision:\", cv_results_4['Precision'].mean())\n",
        "print(\"Mean Recall:\", cv_results_4['Recall'].mean())\n",
        "print(\"Mean F1 Score:\", cv_results_4['F1 Score'].mean())\n",
        "\n",
        "# Perform 10-fold cross-validation\n",
        "kf_10 = KFold(n_splits=10, shuffle=True, random_state=42)\n",
        "cv_scores_10 = cross_val_score(logistic_classifier, X_train_tvec, Y_train, cv=kf_10, scoring='accuracy')\n",
        "\n",
        "# Create a DataFrame to store cross-validation results\n",
        "cv_results_10 = pd.DataFrame(index=range(1, 11))\n",
        "cv_results_10['Accuracy'] = cv_scores_10\n",
        "cv_results_10['Precision'] = cross_val_score(logistic_classifier, X_train_tvec, Y_train, cv=kf_10, scoring='precision_macro')\n",
        "cv_results_10['Recall'] = cross_val_score(logistic_classifier, X_train_tvec, Y_train, cv=kf_10, scoring='recall_macro')\n",
        "cv_results_10['F1 Score'] = cross_val_score(logistic_classifier, X_train_tvec, Y_train, cv=kf_10, scoring='f1_macro')\n",
        "\n",
        "# Print 10-fold cross-validation results\n",
        "print(\"\\n10-Fold Cross-Validation Results for Logistic Regression Classifier:\")\n",
        "print(cv_results_10)\n",
        "\n",
        "# Calculate and print mean scores for 10-fold cross-validation\n",
        "print(\"\\nMean Scores for 10-Fold Cross-Validation:\")\n",
        "print(\"Mean Accuracy:\", cv_scores_10.mean())\n",
        "print(\"Mean Precision:\", cv_results_10['Precision'].mean())\n",
        "print(\"Mean Recall:\", cv_results_10['Recall'].mean())\n",
        "print(\"Mean F1 Score:\", cv_results_10['F1 Score'].mean())\n"
      ],
      "metadata": {
        "colab": {
          "base_uri": "https://localhost:8080/"
        },
        "id": "gDQ9GbGEMq3g",
        "outputId": "70334c71-61f1-4e97-8ee1-94ca8173df5a"
      },
      "execution_count": null,
      "outputs": [
        {
          "output_type": "stream",
          "name": "stdout",
          "text": [
            "4-Fold Cross-Validation Results for Logistic Regression Classifier:\n",
            "   Accuracy  Precision    Recall  F1 Score\n",
            "1  0.905885   0.878521  0.718820  0.768062\n",
            "2  0.907295   0.880264  0.714192  0.764469\n",
            "3  0.906086   0.877760  0.713117  0.762908\n",
            "4  0.894779   0.866169  0.695201  0.742901\n",
            "\n",
            "Mean Scores for 4-Fold Cross-Validation:\n",
            "Mean Accuracy: 0.9035114257999985\n",
            "Mean Precision: 0.875678511455515\n",
            "Mean Recall: 0.7103324549056766\n",
            "Mean F1 Score: 0.7595848303619692\n",
            "\n",
            "10-Fold Cross-Validation Results for Logistic Regression Classifier:\n",
            "    Accuracy  Precision    Recall  F1 Score\n",
            "1   0.908312   0.881269  0.738692  0.785879\n",
            "2   0.907809   0.865911  0.727885  0.773735\n",
            "3   0.909320   0.895092  0.730893  0.781993\n",
            "4   0.915365   0.886431  0.737634  0.786988\n",
            "5   0.907809   0.873079  0.712518  0.761848\n",
            "6   0.914861   0.868200  0.728407  0.775478\n",
            "7   0.902771   0.889363  0.715891  0.766680\n",
            "8   0.904738   0.871864  0.723353  0.770652\n",
            "9   0.903730   0.865609  0.728963  0.774068\n",
            "10  0.894657   0.879182  0.698100  0.747320\n",
            "\n",
            "Mean Scores for 10-Fold Cross-Validation:\n",
            "Mean Accuracy: 0.906937185138539\n",
            "Mean Precision: 0.8775999650095786\n",
            "Mean Recall: 0.7242336851196952\n",
            "Mean F1 Score: 0.772464020840715\n"
          ]
        }
      ]
    },
    {
      "cell_type": "code",
      "source": [
        "# Predict using training and testing data and display the accuracy, f-1 score, precision for Positive and Negative Sentiment Classifiers\n",
        "lr = LogisticRegression(random_state=42)\n",
        "lr.fit(X_train_tvec, Y_train)\n",
        "lr_predictions = lr.predict(tvec.transform(X_test_cleaned))\n",
        "report = classification_report(Y_test,lr_predictions, output_dict=True)\n",
        "data_report = pd.DataFrame(report).transpose().round(4)\n",
        "cm = sns.light_palette(\"purple\", as_cmap=True)\n",
        "data_report.style.background_gradient(cmap=cm)"
      ],
      "metadata": {
        "colab": {
          "base_uri": "https://localhost:8080/",
          "height": 206
        },
        "id": "xqrx0C0oMtQI",
        "outputId": "fc097520-5ae2-4183-a6d8-6ed880fdb2f3"
      },
      "execution_count": null,
      "outputs": [
        {
          "output_type": "execute_result",
          "data": {
            "text/plain": [
              "<pandas.io.formats.style.Styler at 0x7f864e226290>"
            ],
            "text/html": [
              "<style type=\"text/css\">\n",
              "#T_6526d_row0_col0, #T_6526d_row0_col1, #T_6526d_row0_col2, #T_6526d_row2_col3 {\n",
              "  background-color: #f3f0f3;\n",
              "  color: #000000;\n",
              "}\n",
              "#T_6526d_row0_col3 {\n",
              "  background-color: #e3cee3;\n",
              "  color: #000000;\n",
              "}\n",
              "#T_6526d_row1_col0, #T_6526d_row1_col1, #T_6526d_row1_col2, #T_6526d_row3_col3, #T_6526d_row4_col3 {\n",
              "  background-color: #800080;\n",
              "  color: #f1f1f1;\n",
              "}\n",
              "#T_6526d_row1_col3, #T_6526d_row2_col1, #T_6526d_row4_col0, #T_6526d_row4_col1, #T_6526d_row4_col2 {\n",
              "  background-color: #902290;\n",
              "  color: #f1f1f1;\n",
              "}\n",
              "#T_6526d_row2_col0 {\n",
              "  background-color: #891389;\n",
              "  color: #f1f1f1;\n",
              "}\n",
              "#T_6526d_row2_col2 {\n",
              "  background-color: #8d1a8d;\n",
              "  color: #f1f1f1;\n",
              "}\n",
              "#T_6526d_row3_col0, #T_6526d_row3_col1, #T_6526d_row3_col2 {\n",
              "  background-color: #ba78ba;\n",
              "  color: #f1f1f1;\n",
              "}\n",
              "</style>\n",
              "<table id=\"T_6526d\" class=\"dataframe\">\n",
              "  <thead>\n",
              "    <tr>\n",
              "      <th class=\"blank level0\" >&nbsp;</th>\n",
              "      <th id=\"T_6526d_level0_col0\" class=\"col_heading level0 col0\" >precision</th>\n",
              "      <th id=\"T_6526d_level0_col1\" class=\"col_heading level0 col1\" >recall</th>\n",
              "      <th id=\"T_6526d_level0_col2\" class=\"col_heading level0 col2\" >f1-score</th>\n",
              "      <th id=\"T_6526d_level0_col3\" class=\"col_heading level0 col3\" >support</th>\n",
              "    </tr>\n",
              "  </thead>\n",
              "  <tbody>\n",
              "    <tr>\n",
              "      <th id=\"T_6526d_level0_row0\" class=\"row_heading level0 row0\" >0</th>\n",
              "      <td id=\"T_6526d_row0_col0\" class=\"data row0 col0\" >0.833300</td>\n",
              "      <td id=\"T_6526d_row0_col1\" class=\"data row0 col1\" >0.477200</td>\n",
              "      <td id=\"T_6526d_row0_col2\" class=\"data row0 col2\" >0.606900</td>\n",
              "      <td id=\"T_6526d_row0_col3\" class=\"data row0 col3\" >702.000000</td>\n",
              "    </tr>\n",
              "    <tr>\n",
              "      <th id=\"T_6526d_level0_row1\" class=\"row_heading level0 row1\" >1</th>\n",
              "      <td id=\"T_6526d_row1_col0\" class=\"data row1 col0\" >0.919500</td>\n",
              "      <td id=\"T_6526d_row1_col1\" class=\"data row1 col1\" >0.984300</td>\n",
              "      <td id=\"T_6526d_row1_col2\" class=\"data row1 col2\" >0.950800</td>\n",
              "      <td id=\"T_6526d_row1_col3\" class=\"data row1 col3\" >4260.000000</td>\n",
              "    </tr>\n",
              "    <tr>\n",
              "      <th id=\"T_6526d_level0_row2\" class=\"row_heading level0 row2\" >accuracy</th>\n",
              "      <td id=\"T_6526d_row2_col0\" class=\"data row2 col0\" >0.912500</td>\n",
              "      <td id=\"T_6526d_row2_col1\" class=\"data row2 col1\" >0.912500</td>\n",
              "      <td id=\"T_6526d_row2_col2\" class=\"data row2 col2\" >0.912500</td>\n",
              "      <td id=\"T_6526d_row2_col3\" class=\"data row2 col3\" >0.912500</td>\n",
              "    </tr>\n",
              "    <tr>\n",
              "      <th id=\"T_6526d_level0_row3\" class=\"row_heading level0 row3\" >macro avg</th>\n",
              "      <td id=\"T_6526d_row3_col0\" class=\"data row3 col0\" >0.876400</td>\n",
              "      <td id=\"T_6526d_row3_col1\" class=\"data row3 col1\" >0.730700</td>\n",
              "      <td id=\"T_6526d_row3_col2\" class=\"data row3 col2\" >0.778800</td>\n",
              "      <td id=\"T_6526d_row3_col3\" class=\"data row3 col3\" >4962.000000</td>\n",
              "    </tr>\n",
              "    <tr>\n",
              "      <th id=\"T_6526d_level0_row4\" class=\"row_heading level0 row4\" >weighted avg</th>\n",
              "      <td id=\"T_6526d_row4_col0\" class=\"data row4 col0\" >0.907300</td>\n",
              "      <td id=\"T_6526d_row4_col1\" class=\"data row4 col1\" >0.912500</td>\n",
              "      <td id=\"T_6526d_row4_col2\" class=\"data row4 col2\" >0.902100</td>\n",
              "      <td id=\"T_6526d_row4_col3\" class=\"data row4 col3\" >4962.000000</td>\n",
              "    </tr>\n",
              "  </tbody>\n",
              "</table>\n"
            ]
          },
          "metadata": {},
          "execution_count": 22
        }
      ]
    },
    {
      "cell_type": "code",
      "source": [
        "# confusion matrix\n",
        "lr_predictions=lr.predict(tvec.transform(X_test_cleaned))\n",
        "ax= plt.subplot()\n",
        "cm=confusion_matrix(Y_test,lr_predictions)\n",
        "sns.heatmap(cm, annot=True, fmt='g', ax=ax,cmap='Reds');\n",
        "ax.set_xlabel('Predicted labels');ax.set_ylabel('True labels');\n",
        "ax.set_title('Confusion Matrix');\n",
        "ax.xaxis.set_ticklabels(['negative', 'positive']); ax.yaxis.set_ticklabels(['negative', 'positive']);"
      ],
      "metadata": {
        "colab": {
          "base_uri": "https://localhost:8080/",
          "height": 472
        },
        "id": "86CJT7MUMvhH",
        "outputId": "84c78ce8-5800-4d4f-8b93-6ddfae79addc"
      },
      "execution_count": null,
      "outputs": [
        {
          "output_type": "display_data",
          "data": {
            "text/plain": [
              "<Figure size 640x480 with 2 Axes>"
            ],
            "image/png": "[encoded data removed]"
          },
          "metadata": {}
        }
      ]
    },
    {
      "cell_type": "code",
      "source": [
        "# testing the model with sample 'Negative' review\n",
        "demo_review = np.array(['Poor quality. Faulty device.'])\n",
        "demo_review_X_test = tvec.transform(demo_review)\n",
        "print(lr.predict(demo_review_X_test))\n",
        "\n",
        "# expected output = 0 (Negative)\n",
        "# actual output = 0 (Negative)"
      ],
      "metadata": {
        "colab": {
          "base_uri": "https://localhost:8080/"
        },
        "id": "eE9w3jXrMxTn",
        "outputId": "fe2ed2c8-ed51-4422-b1d5-7cdf7f2c9e63"
      },
      "execution_count": null,
      "outputs": [
        {
          "output_type": "stream",
          "name": "stdout",
          "text": [
            "[0]\n"
          ]
        }
      ]
    },
    {
      "cell_type": "code",
      "source": [
        "# testing the model with sample 'Positive' review\n",
        "demo_review_2 = np.array(['Best product.'])\n",
        "demo_review_X_test_2 = tvec.transform(demo_review_2)\n",
        "print(lr.predict(demo_review_X_test_2))\n",
        "\n",
        "# expected output = 1 (Positive)\n",
        "# actual output = 1 (Positive)"
      ],
      "metadata": {
        "colab": {
          "base_uri": "https://localhost:8080/"
        },
        "id": "LHR0lMnrMzKT",
        "outputId": "76d0e3b9-9b1e-4281-d718-9f948a4f8417"
      },
      "execution_count": null,
      "outputs": [
        {
          "output_type": "stream",
          "name": "stdout",
          "text": [
            "[1]\n"
          ]
        }
      ]
    },
    {
      "cell_type": "code",
      "source": [
        "from sklearn.naive_bayes import MultinomialNB\n",
        "\n",
        "# Define the Multinomial Naive Bayes classifier model\n",
        "nb_classifier = MultinomialNB()\n",
        "\n",
        "# Perform 4-fold cross-validation\n",
        "kf_4 = KFold(n_splits=4, shuffle=True, random_state=42)\n",
        "cv_scores_4 = cross_val_score(nb_classifier, X_train_tvec, Y_train, cv=kf_4, scoring='accuracy')\n",
        "\n",
        "# Create a DataFrame to store cross-validation results\n",
        "cv_results_4 = pd.DataFrame(index=range(1, 5))\n",
        "cv_results_4['Accuracy'] = cv_scores_4\n",
        "cv_results_4['Precision'] = cross_val_score(nb_classifier, X_train_tvec, Y_train, cv=kf_4, scoring='precision_macro')\n",
        "cv_results_4['Recall'] = cross_val_score(nb_classifier, X_train_tvec, Y_train, cv=kf_4, scoring='recall_macro')\n",
        "cv_results_4['F1 Score'] = cross_val_score(nb_classifier, X_train_tvec, Y_train, cv=kf_4, scoring='f1_macro')\n",
        "\n",
        "# Print 4-fold cross-validation results\n",
        "print(\"4-Fold Cross-Validation Results for Multinomial Naive Bayes Classifier:\")\n",
        "print(cv_results_4)\n",
        "\n",
        "# Calculate and print mean scores for 4-fold cross-validation\n",
        "print(\"\\nMean Scores for 4-Fold Cross-Validation:\")\n",
        "print(\"Mean Accuracy:\", cv_scores_4.mean())\n",
        "print(\"Mean Precision:\", cv_results_4['Precision'].mean())\n",
        "print(\"Mean Recall:\", cv_results_4['Recall'].mean())\n",
        "print(\"Mean F1 Score:\", cv_results_4['F1 Score'].mean())\n",
        "\n",
        "# Perform 10-fold cross-validation\n",
        "kf_10 = KFold(n_splits=10, shuffle=True, random_state=42)\n",
        "cv_scores_10 = cross_val_score(nb_classifier, X_train_tvec, Y_train, cv=kf_10, scoring='accuracy')\n",
        "\n",
        "# Create a DataFrame to store cross-validation results\n",
        "cv_results_10 = pd.DataFrame(index=range(1, 11))\n",
        "cv_results_10['Accuracy'] = cv_scores_10\n",
        "cv_results_10['Precision'] = cross_val_score(nb_classifier, X_train_tvec, Y_train, cv=kf_10, scoring='precision_macro')\n",
        "cv_results_10['Recall'] = cross_val_score(nb_classifier, X_train_tvec, Y_train, cv=kf_10, scoring='recall_macro')\n",
        "cv_results_10['F1 Score'] = cross_val_score(nb_classifier, X_train_tvec, Y_train, cv=kf_10, scoring='f1_macro')\n",
        "\n",
        "# Print 10-fold cross-validation results\n",
        "print(\"\\n10-Fold Cross-Validation Results for Multinomial Naive Bayes Classifier:\")\n",
        "print(cv_results_10)\n",
        "\n",
        "# Calculate and print mean scores for 10-fold cross-validation\n",
        "print(\"\\nMean Scores for 10-Fold Cross-Validation:\")\n",
        "print(\"Mean Accuracy:\", cv_scores_10.mean())\n",
        "print(\"Mean Precision:\", cv_results_10['Precision'].mean())\n",
        "print(\"Mean Recall:\", cv_results_10['Recall'].mean())\n",
        "print(\"Mean F1 Score:\", cv_results_10['F1 Score'].mean())\n"
      ],
      "metadata": {
        "colab": {
          "base_uri": "https://localhost:8080/",
          "height": 211
        },
        "id": "GamsB2J0M092",
        "outputId": "9ae750ce-49a9-47c7-9575-dd8bc44bfb08"
      },
      "execution_count": null,
      "outputs": [
        {
          "output_type": "error",
          "ename": "NameError",
          "evalue": "name 'KFold' is not defined",
          "traceback": [
            "\u001b[0;31m---------------------------------------------------------------------------\u001b[0m",
            "\u001b[0;31mNameError\u001b[0m                                 Traceback (most recent call last)",
            "\u001b[0;32m<ipython-input-2-d9bc69819411>\u001b[0m in \u001b[0;36m<cell line: 7>\u001b[0;34m()\u001b[0m\n\u001b[1;32m      5\u001b[0m \u001b[0;34m\u001b[0m\u001b[0m\n\u001b[1;32m      6\u001b[0m \u001b[0;31m# Perform 4-fold cross-validation\u001b[0m\u001b[0;34m\u001b[0m\u001b[0;34m\u001b[0m\u001b[0m\n\u001b[0;32m----> 7\u001b[0;31m \u001b[0mkf_4\u001b[0m \u001b[0;34m=\u001b[0m \u001b[0mKFold\u001b[0m\u001b[0;34m(\u001b[0m\u001b[0mn_splits\u001b[0m\u001b[0;34m=\u001b[0m\u001b[0;36m4\u001b[0m\u001b[0;34m,\u001b[0m \u001b[0mshuffle\u001b[0m\u001b[0;34m=\u001b[0m\u001b[0;32mTrue\u001b[0m\u001b[0;34m,\u001b[0m \u001b[0mrandom_state\u001b[0m\u001b[0;34m=\u001b[0m\u001b[0;36m42\u001b[0m\u001b[0;34m)\u001b[0m\u001b[0;34m\u001b[0m\u001b[0;34m\u001b[0m\u001b[0m\n\u001b[0m\u001b[1;32m      8\u001b[0m \u001b[0mcv_scores_4\u001b[0m \u001b[0;34m=\u001b[0m \u001b[0mcross_val_score\u001b[0m\u001b[0;34m(\u001b[0m\u001b[0mnb_classifier\u001b[0m\u001b[0;34m,\u001b[0m \u001b[0mX_train_tvec\u001b[0m\u001b[0;34m,\u001b[0m \u001b[0mY_train\u001b[0m\u001b[0;34m,\u001b[0m \u001b[0mcv\u001b[0m\u001b[0;34m=\u001b[0m\u001b[0mkf_4\u001b[0m\u001b[0;34m,\u001b[0m \u001b[0mscoring\u001b[0m\u001b[0;34m=\u001b[0m\u001b[0;34m'accuracy'\u001b[0m\u001b[0;34m)\u001b[0m\u001b[0;34m\u001b[0m\u001b[0;34m\u001b[0m\u001b[0m\n\u001b[1;32m      9\u001b[0m \u001b[0;34m\u001b[0m\u001b[0m\n",
            "\u001b[0;31mNameError\u001b[0m: name 'KFold' is not defined"
          ]
        }
      ]
    },
    {
      "cell_type": "code",
      "source": [
        "# Predict using training and testing data and display the accuracy, f-1 score, precision for Positive and Negative Sentiment Classifiers\n",
        "nbm = MultinomialNB()\n",
        "nbm.fit(X_train_tvec, Y_train)\n",
        "nbm_predictions = nbm.predict(tvec.transform(X_test_cleaned))\n",
        "report = classification_report(Y_test,nbm_predictions, output_dict=True)\n",
        "data_report = pd.DataFrame(report).transpose().round(4)\n",
        "cm = sns.light_palette(\"blue\", as_cmap=True)\n",
        "data_report.style.background_gradient(cmap=cm)"
      ],
      "metadata": {
        "colab": {
          "base_uri": "https://localhost:8080/",
          "height": 206
        },
        "id": "fPZPVtDVM3pX",
        "outputId": "c7ccb1a1-395c-4252-c7bf-06773a1b2a24"
      },
      "execution_count": null,
      "outputs": [
        {
          "output_type": "execute_result",
          "data": {
            "text/plain": [
              "<pandas.io.formats.style.Styler at 0x7f864e225120>"
            ],
            "text/html": [
              "<style type=\"text/css\">\n",
              "#T_3a8c6_row0_col0, #T_3a8c6_row1_col1, #T_3a8c6_row1_col2, #T_3a8c6_row3_col3, #T_3a8c6_row4_col3 {\n",
              "  background-color: #0000ff;\n",
              "  color: #f1f1f1;\n",
              "}\n",
              "#T_3a8c6_row0_col1, #T_3a8c6_row0_col2, #T_3a8c6_row1_col0, #T_3a8c6_row2_col0, #T_3a8c6_row2_col3 {\n",
              "  background-color: #f0f0f3;\n",
              "  color: #000000;\n",
              "}\n",
              "#T_3a8c6_row0_col3, #T_3a8c6_row4_col0 {\n",
              "  background-color: #cecef4;\n",
              "  color: #000000;\n",
              "}\n",
              "#T_3a8c6_row1_col3, #T_3a8c6_row2_col1, #T_3a8c6_row4_col1, #T_3a8c6_row4_col2 {\n",
              "  background-color: #2222fd;\n",
              "  color: #f1f1f1;\n",
              "}\n",
              "#T_3a8c6_row2_col2 {\n",
              "  background-color: #1111fe;\n",
              "  color: #f1f1f1;\n",
              "}\n",
              "#T_3a8c6_row3_col0, #T_3a8c6_row3_col2 {\n",
              "  background-color: #7979f9;\n",
              "  color: #f1f1f1;\n",
              "}\n",
              "#T_3a8c6_row3_col1 {\n",
              "  background-color: #7878f9;\n",
              "  color: #f1f1f1;\n",
              "}\n",
              "</style>\n",
              "<table id=\"T_3a8c6\" class=\"dataframe\">\n",
              "  <thead>\n",
              "    <tr>\n",
              "      <th class=\"blank level0\" >&nbsp;</th>\n",
              "      <th id=\"T_3a8c6_level0_col0\" class=\"col_heading level0 col0\" >precision</th>\n",
              "      <th id=\"T_3a8c6_level0_col1\" class=\"col_heading level0 col1\" >recall</th>\n",
              "      <th id=\"T_3a8c6_level0_col2\" class=\"col_heading level0 col2\" >f1-score</th>\n",
              "      <th id=\"T_3a8c6_level0_col3\" class=\"col_heading level0 col3\" >support</th>\n",
              "    </tr>\n",
              "  </thead>\n",
              "  <tbody>\n",
              "    <tr>\n",
              "      <th id=\"T_3a8c6_level0_row0\" class=\"row_heading level0 row0\" >0</th>\n",
              "      <td id=\"T_3a8c6_row0_col0\" class=\"data row0 col0\" >1.000000</td>\n",
              "      <td id=\"T_3a8c6_row0_col1\" class=\"data row0 col1\" >0.012800</td>\n",
              "      <td id=\"T_3a8c6_row0_col2\" class=\"data row0 col2\" >0.025300</td>\n",
              "      <td id=\"T_3a8c6_row0_col3\" class=\"data row0 col3\" >702.000000</td>\n",
              "    </tr>\n",
              "    <tr>\n",
              "      <th id=\"T_3a8c6_level0_row1\" class=\"row_heading level0 row1\" >1</th>\n",
              "      <td id=\"T_3a8c6_row1_col0\" class=\"data row1 col0\" >0.860100</td>\n",
              "      <td id=\"T_3a8c6_row1_col1\" class=\"data row1 col1\" >1.000000</td>\n",
              "      <td id=\"T_3a8c6_row1_col2\" class=\"data row1 col2\" >0.924800</td>\n",
              "      <td id=\"T_3a8c6_row1_col3\" class=\"data row1 col3\" >4260.000000</td>\n",
              "    </tr>\n",
              "    <tr>\n",
              "      <th id=\"T_3a8c6_level0_row2\" class=\"row_heading level0 row2\" >accuracy</th>\n",
              "      <td id=\"T_3a8c6_row2_col0\" class=\"data row2 col0\" >0.860300</td>\n",
              "      <td id=\"T_3a8c6_row2_col1\" class=\"data row2 col1\" >0.860300</td>\n",
              "      <td id=\"T_3a8c6_row2_col2\" class=\"data row2 col2\" >0.860300</td>\n",
              "      <td id=\"T_3a8c6_row2_col3\" class=\"data row2 col3\" >0.860300</td>\n",
              "    </tr>\n",
              "    <tr>\n",
              "      <th id=\"T_3a8c6_level0_row3\" class=\"row_heading level0 row3\" >macro avg</th>\n",
              "      <td id=\"T_3a8c6_row3_col0\" class=\"data row3 col0\" >0.930000</td>\n",
              "      <td id=\"T_3a8c6_row3_col1\" class=\"data row3 col1\" >0.506400</td>\n",
              "      <td id=\"T_3a8c6_row3_col2\" class=\"data row3 col2\" >0.475000</td>\n",
              "      <td id=\"T_3a8c6_row3_col3\" class=\"data row3 col3\" >4962.000000</td>\n",
              "    </tr>\n",
              "    <tr>\n",
              "      <th id=\"T_3a8c6_level0_row4\" class=\"row_heading level0 row4\" >weighted avg</th>\n",
              "      <td id=\"T_3a8c6_row4_col0\" class=\"data row4 col0\" >0.879900</td>\n",
              "      <td id=\"T_3a8c6_row4_col1\" class=\"data row4 col1\" >0.860300</td>\n",
              "      <td id=\"T_3a8c6_row4_col2\" class=\"data row4 col2\" >0.797500</td>\n",
              "      <td id=\"T_3a8c6_row4_col3\" class=\"data row4 col3\" >4962.000000</td>\n",
              "    </tr>\n",
              "  </tbody>\n",
              "</table>\n"
            ]
          },
          "metadata": {},
          "execution_count": 24
        }
      ]
    },
    {
      "cell_type": "code",
      "source": [
        "# confusion matrix\n",
        "nbm_predictions=nbm.predict(tvec.transform(X_test_cleaned))\n",
        "ax= plt.subplot()\n",
        "cm=confusion_matrix(Y_test,nbm_predictions)\n",
        "sns.heatmap(cm, annot=True, fmt='g', ax=ax,cmap='Purples');\n",
        "ax.set_xlabel('Predicted labels');ax.set_ylabel('True labels');\n",
        "ax.set_title('Confusion Matrix');\n",
        "ax.xaxis.set_ticklabels(['negative', 'positive']); ax.yaxis.set_ticklabels(['negative', 'positive']);"
      ],
      "metadata": {
        "colab": {
          "base_uri": "https://localhost:8080/",
          "height": 472
        },
        "id": "tw04QNWtM5tv",
        "outputId": "5ba135dd-3513-4524-eac6-f2a17a71632d"
      },
      "execution_count": null,
      "outputs": [
        {
          "output_type": "display_data",
          "data": {
            "text/plain": [
              "<Figure size 640x480 with 2 Axes>"
            ],
            "image/png": "[encoded data removed]"
          },
          "metadata": {}
        }
      ]
    },
    {
      "cell_type": "code",
      "source": [
        "# testing the model with sample 'Negative' review\n",
        "demo_review = np.array(['Defective. Bad. Stopped working after one day use'])\n",
        "demo_review_X_test = tvec.transform(demo_review)\n",
        "print(nbm.predict(demo_review_X_test))\n",
        "\n",
        "# expected output = 0 (Negative)\n",
        "# actual output = 0 (Negative)"
      ],
      "metadata": {
        "colab": {
          "base_uri": "https://localhost:8080/"
        },
        "id": "FsV_-So7M7_Z",
        "outputId": "62bcc916-d8de-43f6-94d3-a48efeec5e75"
      },
      "execution_count": null,
      "outputs": [
        {
          "output_type": "stream",
          "name": "stdout",
          "text": [
            "[0]\n"
          ]
        }
      ]
    },
    {
      "cell_type": "code",
      "source": [
        "# testing the model with sample 'Positive' review\n",
        "demo_review_2 = np.array(['Good product. highly recommend buying.'])\n",
        "demo_review_X_test_2 = tvec.transform(demo_review_2)\n",
        "print(nbm.predict(demo_review_X_test_2))\n",
        "\n",
        "# expected output = 1 (Positive)\n",
        "# actual output = 1 (Positive)"
      ],
      "metadata": {
        "colab": {
          "base_uri": "https://localhost:8080/"
        },
        "id": "gHvwmydtM_eX",
        "outputId": "ddb2e397-423a-4400-8e87-8f91a1034fad"
      },
      "execution_count": null,
      "outputs": [
        {
          "output_type": "stream",
          "name": "stdout",
          "text": [
            "[1]\n"
          ]
        }
      ]
    }
  ]
}